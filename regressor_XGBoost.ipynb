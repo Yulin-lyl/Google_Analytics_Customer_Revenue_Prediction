{
 "cells": [
  {
   "cell_type": "code",
   "execution_count": 2,
   "metadata": {
    "colab": {
     "base_uri": "https://localhost:8080/",
     "height": 122
    },
    "colab_type": "code",
    "id": "d0MTktm3ncc4",
    "outputId": "02d6bd46-31fa-40da-ead7-c4ede22e06aa"
   },
   "outputs": [
    {
     "name": "stdout",
     "output_type": "stream",
     "text": [
      "Go to this URL in a browser: https://accounts.google.com/o/oauth2/auth?client_id=947318989803-6bn6qk8qdgf4n4g3pfee6491hc0brc4i.apps.googleusercontent.com&redirect_uri=urn%3aietf%3awg%3aoauth%3a2.0%3aoob&response_type=code&scope=email%20https%3a%2f%2fwww.googleapis.com%2fauth%2fdocs.test%20https%3a%2f%2fwww.googleapis.com%2fauth%2fdrive%20https%3a%2f%2fwww.googleapis.com%2fauth%2fdrive.photos.readonly%20https%3a%2f%2fwww.googleapis.com%2fauth%2fpeopleapi.readonly\n",
      "\n",
      "Enter your authorization code:\n",
      "··········\n",
      "Mounted at /content/drive\n"
     ]
    }
   ],
   "source": [
    "import pandas as pd\n",
    "import numpy as np\n",
    "import os\n",
    "from google.colab import drive\n",
    "drive.mount('/content/drive')\n",
    "from sklearn.model_selection import train_test_split\n",
    "import xgboost as xgb"
   ]
  },
  {
   "cell_type": "code",
   "execution_count": 0,
   "metadata": {
    "colab": {},
    "colab_type": "code",
    "id": "RSsJc-8fnkZH"
   },
   "outputs": [],
   "source": [
    "train_df = pd.read_csv('/content/drive/Shared drives/#PA_Customer Revenue Prediction/input_train_v3.csv', sep = ',')"
   ]
  },
  {
   "cell_type": "code",
   "execution_count": 0,
   "metadata": {
    "colab": {},
    "colab_type": "code",
    "id": "A1SIQJqZbvXc"
   },
   "outputs": [],
   "source": [
    "test_df = pd.read_csv('/content/drive/Shared drives/#PA_Customer Revenue Prediction/input_test_v3.csv', sep = ',')"
   ]
  },
  {
   "cell_type": "code",
   "execution_count": 0,
   "metadata": {
    "colab": {},
    "colab_type": "code",
    "id": "h1hGfVU90U0F"
   },
   "outputs": [],
   "source": [
    "input_test = pd.read_csv('/content/drive/Shared drives/#PA_Customer Revenue Prediction/input_test_v3.csv', sep = ',')"
   ]
  },
  {
   "cell_type": "code",
   "execution_count": 0,
   "metadata": {
    "colab": {},
    "colab_type": "code",
    "id": "xuJjNOOi1VEE"
   },
   "outputs": [],
   "source": [
    "test_df = input_test\n"
   ]
  },
  {
   "cell_type": "code",
   "execution_count": 0,
   "metadata": {
    "colab": {},
    "colab_type": "code",
    "id": "KOrNnK780XMO"
   },
   "outputs": [],
   "source": [
    "visit_id = input_test['fullVisitorId_str']"
   ]
  },
  {
   "cell_type": "code",
   "execution_count": 0,
   "metadata": {
    "colab": {},
    "colab_type": "code",
    "id": "QclBGAJMn0a3"
   },
   "outputs": [],
   "source": [
    "from numpy import loadtxt\n",
    "from xgboost import XGBClassifier\n",
    "from xgboost import XGBRegressor\n",
    "import xgboost as xgb\n",
    "from xgboost import plot_importance\n",
    "from matplotlib import pyplot\n",
    "import pandas as pd\n"
   ]
  },
  {
   "cell_type": "code",
   "execution_count": 0,
   "metadata": {
    "colab": {},
    "colab_type": "code",
    "id": "gRUi92CL0mJe"
   },
   "outputs": [],
   "source": [
    "train_df = train_df.iloc[:, 1:]\n",
    "train_df = train_df.fillna(0)"
   ]
  },
  {
   "cell_type": "code",
   "execution_count": 0,
   "metadata": {
    "colab": {},
    "colab_type": "code",
    "id": "NP9qo5uWb0Rz"
   },
   "outputs": [],
   "source": [
    "test_df = test_df.iloc[:, 1:]"
   ]
  },
  {
   "cell_type": "code",
   "execution_count": 0,
   "metadata": {
    "colab": {},
    "colab_type": "code",
    "id": "RdKRDB6goDyO"
   },
   "outputs": [],
   "source": [
    "traindf, testdf = train_test_split(train_df, test_size = 0.15, random_state = 20)"
   ]
  },
  {
   "cell_type": "code",
   "execution_count": 0,
   "metadata": {
    "colab": {},
    "colab_type": "code",
    "id": "8cYBcT4jy5Im"
   },
   "outputs": [],
   "source": [
    "# whether return or not?\n",
    "x_train = traindf.iloc[:,:37]\n",
    "y_train_return = traindf['will_return']\n",
    "y_train_value = traindf[\"how_much\"]\n",
    "\n",
    "x_test = testdf.iloc[:, :37]\n",
    "y_test_return = testdf['will_return']\n",
    "y_test_value = testdf[\"how_much\"]"
   ]
  },
  {
   "cell_type": "code",
   "execution_count": 47,
   "metadata": {
    "colab": {
     "base_uri": "https://localhost:8080/",
     "height": 241
    },
    "colab_type": "code",
    "id": "4_V8xjuQAoac",
    "outputId": "9660d232-b667-40c7-86c2-6cecbc7251d5"
   },
   "outputs": [
    {
     "data": {
      "text/html": [
       "<div>\n",
       "<style scoped>\n",
       "    .dataframe tbody tr th:only-of-type {\n",
       "        vertical-align: middle;\n",
       "    }\n",
       "\n",
       "    .dataframe tbody tr th {\n",
       "        vertical-align: top;\n",
       "    }\n",
       "\n",
       "    .dataframe thead th {\n",
       "        text-align: right;\n",
       "    }\n",
       "</style>\n",
       "<table border=\"1\" class=\"dataframe\">\n",
       "  <thead>\n",
       "    <tr style=\"text-align: right;\">\n",
       "      <th></th>\n",
       "      <th>('channelGrouping', 'max')</th>\n",
       "      <th>('visitNumber', 'max')</th>\n",
       "      <th>('visitNumber', 'count')</th>\n",
       "      <th>('device_browser', 'max')</th>\n",
       "      <th>('device_operatingSystem', 'max')</th>\n",
       "      <th>('deviceCategory', 'max')</th>\n",
       "      <th>('geoNetwork_continent', 'max')</th>\n",
       "      <th>('geoNetwork_subContinent', 'max')</th>\n",
       "      <th>('geoNetwork_country', 'max')</th>\n",
       "      <th>('geoNetwork_region', 'max')</th>\n",
       "      <th>('geoNetwork_metro', 'max')</th>\n",
       "      <th>('geoNetwork_city', 'max')</th>\n",
       "      <th>('geoNetwork_networkDomain', 'max')</th>\n",
       "      <th>('trafficSource_source', 'max')</th>\n",
       "      <th>('trafficSource_medium', 'max')</th>\n",
       "      <th>('trafficSource_adwordsClickInfo.isVideoAd', 'mean')</th>\n",
       "      <th>('device_isMobile', 'mean')</th>\n",
       "      <th>('trafficSource_isTrueDirect', 'mean')</th>\n",
       "      <th>('totals_bounces', 'sum')</th>\n",
       "      <th>('totals_hits', 'sum')</th>\n",
       "      <th>('totals_hits', 'mean')</th>\n",
       "      <th>('totals_hits', 'min')</th>\n",
       "      <th>('totals_hits', 'max')</th>\n",
       "      <th>('totals_hits', 'median')</th>\n",
       "      <th>('totals_hits', 'std')</th>\n",
       "      <th>('totals_pageviews', 'sum')</th>\n",
       "      <th>('totals_pageviews', 'mean')</th>\n",
       "      <th>('totals_pageviews', 'min')</th>\n",
       "      <th>('totals_pageviews', 'max')</th>\n",
       "      <th>('totals_pageviews', 'median')</th>\n",
       "      <th>('totals_pageviews', 'std')</th>\n",
       "      <th>('totals_transactionRevenue', 'sum')</th>\n",
       "      <th>('totals_transactions', 'sum')</th>\n",
       "      <th>('first_ses_from_the_period_start', '')</th>\n",
       "      <th>('last_ses_from_the_period_end', '')</th>\n",
       "      <th>('interval_dates', '')</th>\n",
       "      <th>unique_date_num</th>\n",
       "    </tr>\n",
       "  </thead>\n",
       "  <tbody>\n",
       "    <tr>\n",
       "      <th>671330</th>\n",
       "      <td>4</td>\n",
       "      <td>1</td>\n",
       "      <td>1</td>\n",
       "      <td>35</td>\n",
       "      <td>20</td>\n",
       "      <td>0</td>\n",
       "      <td>4</td>\n",
       "      <td>13</td>\n",
       "      <td>217</td>\n",
       "      <td>131</td>\n",
       "      <td>60</td>\n",
       "      <td>458</td>\n",
       "      <td>38725</td>\n",
       "      <td>99</td>\n",
       "      <td>5</td>\n",
       "      <td>1.0</td>\n",
       "      <td>0.0</td>\n",
       "      <td>1.0</td>\n",
       "      <td>0.0</td>\n",
       "      <td>3</td>\n",
       "      <td>3.000000</td>\n",
       "      <td>3</td>\n",
       "      <td>3</td>\n",
       "      <td>3.0</td>\n",
       "      <td>0.000000</td>\n",
       "      <td>2.0</td>\n",
       "      <td>2.000000</td>\n",
       "      <td>2.0</td>\n",
       "      <td>2.0</td>\n",
       "      <td>2.0</td>\n",
       "      <td>0.000000</td>\n",
       "      <td>0.0</td>\n",
       "      <td>0.0</td>\n",
       "      <td>375.0</td>\n",
       "      <td>262.0</td>\n",
       "      <td>0.0</td>\n",
       "      <td>1</td>\n",
       "    </tr>\n",
       "    <tr>\n",
       "      <th>1031924</th>\n",
       "      <td>3</td>\n",
       "      <td>1</td>\n",
       "      <td>1</td>\n",
       "      <td>35</td>\n",
       "      <td>23</td>\n",
       "      <td>1</td>\n",
       "      <td>2</td>\n",
       "      <td>12</td>\n",
       "      <td>218</td>\n",
       "      <td>73</td>\n",
       "      <td>100</td>\n",
       "      <td>540</td>\n",
       "      <td>0</td>\n",
       "      <td>99</td>\n",
       "      <td>4</td>\n",
       "      <td>1.0</td>\n",
       "      <td>1.0</td>\n",
       "      <td>1.0</td>\n",
       "      <td>0.0</td>\n",
       "      <td>4</td>\n",
       "      <td>4.000000</td>\n",
       "      <td>4</td>\n",
       "      <td>4</td>\n",
       "      <td>4.0</td>\n",
       "      <td>0.000000</td>\n",
       "      <td>4.0</td>\n",
       "      <td>4.000000</td>\n",
       "      <td>4.0</td>\n",
       "      <td>4.0</td>\n",
       "      <td>4.0</td>\n",
       "      <td>0.000000</td>\n",
       "      <td>0.0</td>\n",
       "      <td>0.0</td>\n",
       "      <td>409.0</td>\n",
       "      <td>228.0</td>\n",
       "      <td>0.0</td>\n",
       "      <td>1</td>\n",
       "    </tr>\n",
       "    <tr>\n",
       "      <th>504914</th>\n",
       "      <td>6</td>\n",
       "      <td>1</td>\n",
       "      <td>1</td>\n",
       "      <td>72</td>\n",
       "      <td>23</td>\n",
       "      <td>2</td>\n",
       "      <td>2</td>\n",
       "      <td>12</td>\n",
       "      <td>218</td>\n",
       "      <td>73</td>\n",
       "      <td>100</td>\n",
       "      <td>94</td>\n",
       "      <td>31811</td>\n",
       "      <td>300</td>\n",
       "      <td>6</td>\n",
       "      <td>1.0</td>\n",
       "      <td>1.0</td>\n",
       "      <td>1.0</td>\n",
       "      <td>0.0</td>\n",
       "      <td>12</td>\n",
       "      <td>12.000000</td>\n",
       "      <td>12</td>\n",
       "      <td>12</td>\n",
       "      <td>12.0</td>\n",
       "      <td>0.000000</td>\n",
       "      <td>9.0</td>\n",
       "      <td>9.000000</td>\n",
       "      <td>9.0</td>\n",
       "      <td>9.0</td>\n",
       "      <td>9.0</td>\n",
       "      <td>0.000000</td>\n",
       "      <td>0.0</td>\n",
       "      <td>0.0</td>\n",
       "      <td>193.0</td>\n",
       "      <td>444.0</td>\n",
       "      <td>0.0</td>\n",
       "      <td>1</td>\n",
       "    </tr>\n",
       "    <tr>\n",
       "      <th>704694</th>\n",
       "      <td>3</td>\n",
       "      <td>1</td>\n",
       "      <td>1</td>\n",
       "      <td>74</td>\n",
       "      <td>1</td>\n",
       "      <td>1</td>\n",
       "      <td>2</td>\n",
       "      <td>12</td>\n",
       "      <td>218</td>\n",
       "      <td>149</td>\n",
       "      <td>4</td>\n",
       "      <td>52</td>\n",
       "      <td>0</td>\n",
       "      <td>99</td>\n",
       "      <td>3</td>\n",
       "      <td>0.0</td>\n",
       "      <td>1.0</td>\n",
       "      <td>1.0</td>\n",
       "      <td>1.0</td>\n",
       "      <td>1</td>\n",
       "      <td>1.000000</td>\n",
       "      <td>1</td>\n",
       "      <td>1</td>\n",
       "      <td>1.0</td>\n",
       "      <td>0.000000</td>\n",
       "      <td>1.0</td>\n",
       "      <td>1.000000</td>\n",
       "      <td>1.0</td>\n",
       "      <td>1.0</td>\n",
       "      <td>1.0</td>\n",
       "      <td>0.000000</td>\n",
       "      <td>0.0</td>\n",
       "      <td>0.0</td>\n",
       "      <td>432.0</td>\n",
       "      <td>205.0</td>\n",
       "      <td>0.0</td>\n",
       "      <td>1</td>\n",
       "    </tr>\n",
       "    <tr>\n",
       "      <th>301010</th>\n",
       "      <td>2</td>\n",
       "      <td>2</td>\n",
       "      <td>3</td>\n",
       "      <td>35</td>\n",
       "      <td>6</td>\n",
       "      <td>0</td>\n",
       "      <td>2</td>\n",
       "      <td>12</td>\n",
       "      <td>218</td>\n",
       "      <td>73</td>\n",
       "      <td>100</td>\n",
       "      <td>540</td>\n",
       "      <td>0</td>\n",
       "      <td>0</td>\n",
       "      <td>0</td>\n",
       "      <td>1.0</td>\n",
       "      <td>0.0</td>\n",
       "      <td>0.0</td>\n",
       "      <td>0.0</td>\n",
       "      <td>44</td>\n",
       "      <td>14.666667</td>\n",
       "      <td>2</td>\n",
       "      <td>25</td>\n",
       "      <td>17.0</td>\n",
       "      <td>11.676187</td>\n",
       "      <td>37.0</td>\n",
       "      <td>12.333333</td>\n",
       "      <td>2.0</td>\n",
       "      <td>20.0</td>\n",
       "      <td>15.0</td>\n",
       "      <td>9.291573</td>\n",
       "      <td>0.0</td>\n",
       "      <td>0.0</td>\n",
       "      <td>31.0</td>\n",
       "      <td>551.0</td>\n",
       "      <td>55.0</td>\n",
       "      <td>3</td>\n",
       "    </tr>\n",
       "  </tbody>\n",
       "</table>\n",
       "</div>"
      ],
      "text/plain": [
       "         ('channelGrouping', 'max')  ...  unique_date_num\n",
       "671330                            4  ...                1\n",
       "1031924                           3  ...                1\n",
       "504914                            6  ...                1\n",
       "704694                            3  ...                1\n",
       "301010                            2  ...                3\n",
       "\n",
       "[5 rows x 37 columns]"
      ]
     },
     "execution_count": 47,
     "metadata": {
      "tags": []
     },
     "output_type": "execute_result"
    }
   ],
   "source": [
    "x_train.head()"
   ]
  },
  {
   "cell_type": "code",
   "execution_count": 0,
   "metadata": {
    "colab": {},
    "colab_type": "code",
    "id": "-xSC6gxv8nKD"
   },
   "outputs": [],
   "source": [
    "xgb_r = XGBRegressor()\n",
    "parameters = {'nthread':[4], #when use hyperthread, xgboost may become slower\n",
    "              'objective':['reg:linear'],\n",
    "              'learning_rate': [.03, 0.05, .07], #so called `eta` value\n",
    "              'max_depth': [5, 6, 7],\n",
    "              'min_child_weight': [4],\n",
    "              'silent': [1],\n",
    "              'subsample': [0.7],\n",
    "              'colsample_bytree': [0.7],\n",
    "              'n_estimators': [500]}"
   ]
  },
  {
   "cell_type": "code",
   "execution_count": 0,
   "metadata": {
    "colab": {
     "base_uri": "https://localhost:8080/",
     "height": 224
    },
    "colab_type": "code",
    "id": "ntgvo9aYn0U5",
    "outputId": "df129c8b-0dde-4f2a-a705-b15b2d9d6618"
   },
   "outputs": [
    {
     "name": "stdout",
     "output_type": "stream",
     "text": [
      "Fitting 2 folds for each of 9 candidates, totalling 18 fits\n"
     ]
    },
    {
     "name": "stderr",
     "output_type": "stream",
     "text": [
      "/usr/local/lib/python3.6/dist-packages/sklearn/model_selection/_search.py:266: UserWarning: The total space of parameters 9 is smaller than n_iter=10. Running 9 iterations. For exhaustive searches, use GridSearchCV.\n",
      "  % (grid_size, self.n_iter, grid_size), UserWarning)\n",
      "[Parallel(n_jobs=5)]: Using backend LokyBackend with 5 concurrent workers.\n",
      "[Parallel(n_jobs=5)]: Done  18 out of  18 | elapsed: 116.1min finished\n",
      "/usr/local/lib/python3.6/dist-packages/xgboost/core.py:587: FutureWarning: Series.base is deprecated and will be removed in a future version\n",
      "  if getattr(data, 'base', None) is not None and \\\n",
      "/usr/local/lib/python3.6/dist-packages/xgboost/core.py:588: FutureWarning: Series.base is deprecated and will be removed in a future version\n",
      "  data.base is not None and isinstance(data, np.ndarray) \\\n"
     ]
    },
    {
     "name": "stdout",
     "output_type": "stream",
     "text": [
      "0.006701823721211836\n",
      "{'subsample': 0.7, 'silent': 1, 'objective': 'reg:linear', 'nthread': 4, 'n_estimators': 500, 'min_child_weight': 4, 'max_depth': 5, 'learning_rate': 0.03, 'colsample_bytree': 0.7}\n"
     ]
    }
   ],
   "source": [
    "from sklearn.model_selection import GridSearchCV\n",
    "from sklearn.model_selection import RandomizedSearchCV\n",
    "xgb_grid = RandomizedSearchCV(xgb_r,\n",
    "                        parameters,\n",
    "                        cv = 2,\n",
    "                        n_jobs = 5,\n",
    "                        verbose=True)\n",
    "\n",
    "xgb_grid.fit(x_train,\n",
    "         y_train_value)\n",
    "\n",
    "print(xgb_grid.best_score_)\n",
    "print(xgb_grid.best_params_)"
   ]
  },
  {
   "cell_type": "code",
   "execution_count": 0,
   "metadata": {
    "colab": {},
    "colab_type": "code",
    "id": "4lBRb9VDn0Nl"
   },
   "outputs": [],
   "source": [
    "# final regression model\n",
    "xgb_r = XGBRegressor(subsample =  0.7, silent = 1, objective = 'reg:linear', nthread = 4, n_estimators = 500, min_child_weight = 4, max_depth = 5, learning_rate = 0.03, colsample_bytree =  0.7)"
   ]
  },
  {
   "cell_type": "code",
   "execution_count": 49,
   "metadata": {
    "colab": {
     "base_uri": "https://localhost:8080/",
     "height": 204
    },
    "colab_type": "code",
    "id": "hBAJnyjlnz8b",
    "outputId": "9559868e-c519-42a4-c44a-b01d324d5dde"
   },
   "outputs": [
    {
     "name": "stderr",
     "output_type": "stream",
     "text": [
      "/usr/local/lib/python3.6/dist-packages/xgboost/core.py:587: FutureWarning: Series.base is deprecated and will be removed in a future version\n",
      "  if getattr(data, 'base', None) is not None and \\\n",
      "/usr/local/lib/python3.6/dist-packages/xgboost/core.py:588: FutureWarning: Series.base is deprecated and will be removed in a future version\n",
      "  data.base is not None and isinstance(data, np.ndarray) \\\n"
     ]
    },
    {
     "data": {
      "text/plain": [
       "XGBRegressor(base_score=0.5, booster='gbtree', colsample_bylevel=1,\n",
       "             colsample_bynode=1, colsample_bytree=0.7, gamma=0,\n",
       "             importance_type='gain', learning_rate=0.03, max_delta_step=0,\n",
       "             max_depth=5, min_child_weight=4, missing=None, n_estimators=500,\n",
       "             n_jobs=1, nthread=4, objective='reg:linear', random_state=0,\n",
       "             reg_alpha=0, reg_lambda=1, scale_pos_weight=1, seed=None, silent=1,\n",
       "             subsample=0.7, verbosity=1)"
      ]
     },
     "execution_count": 49,
     "metadata": {
      "tags": []
     },
     "output_type": "execute_result"
    }
   ],
   "source": [
    "xgb_r.fit(x_train, y_train_value)"
   ]
  },
  {
   "cell_type": "code",
   "execution_count": 0,
   "metadata": {
    "colab": {},
    "colab_type": "code",
    "id": "Ietzxl2Iu6bu"
   },
   "outputs": [],
   "source": [
    "# predict revenue based on validation set\n",
    "predict_revenue = xgb_r.predict(x_test)"
   ]
  },
  {
   "cell_type": "code",
   "execution_count": 0,
   "metadata": {
    "colab": {},
    "colab_type": "code",
    "id": "cgC2dj8wvACb"
   },
   "outputs": [],
   "source": [
    "# prediction on real test data\n",
    "predict_revenue_final= xgb_r.predict(test_df)"
   ]
  },
  {
   "cell_type": "code",
   "execution_count": 0,
   "metadata": {
    "colab": {},
    "colab_type": "code",
    "id": "D9e1tvNv40Da"
   },
   "outputs": [],
   "source": [
    "predict_revenue_final = pd.DataFrame(predict_revenue_final)"
   ]
  },
  {
   "cell_type": "code",
   "execution_count": 53,
   "metadata": {
    "colab": {
     "base_uri": "https://localhost:8080/",
     "height": 34
    },
    "colab_type": "code",
    "id": "9NKLAS1A8slB",
    "outputId": "5b550635-d4b2-4ad1-b69a-942add486b57"
   },
   "outputs": [
    {
     "data": {
      "text/plain": [
       "0.11697325301397242"
      ]
     },
     "execution_count": 53,
     "metadata": {
      "tags": []
     },
     "output_type": "execute_result"
    }
   ],
   "source": [
    "from sklearn.metrics import mean_squared_error\n",
    "mean_squared_error(y_test_value, predict_revenue)"
   ]
  },
  {
   "cell_type": "code",
   "execution_count": 55,
   "metadata": {
    "colab": {
     "base_uri": "https://localhost:8080/",
     "height": 34
    },
    "colab_type": "code",
    "id": "cWJJMlMvyV0r",
    "outputId": "e8e4b0bb-4aad-4093-b4da-888f009f98ce"
   },
   "outputs": [
    {
     "data": {
      "text/plain": [
       "0.013101233577934614"
      ]
     },
     "execution_count": 55,
     "metadata": {
      "tags": []
     },
     "output_type": "execute_result"
    }
   ],
   "source": [
    "from sklearn.metrics import mean_absolute_error\n",
    "mean_absolute_error(y_test_value, predict_revenue)"
   ]
  },
  {
   "cell_type": "code",
   "execution_count": 0,
   "metadata": {
    "colab": {},
    "colab_type": "code",
    "id": "HQI2CT_L3j4w"
   },
   "outputs": [],
   "source": [
    "test_df_final = pd.read_csv('/content/drive/Shared drives/#PA_Customer Revenue Prediction/input_test_v3.csv', sep = ',')"
   ]
  },
  {
   "cell_type": "code",
   "execution_count": 57,
   "metadata": {
    "colab": {
     "base_uri": "https://localhost:8080/",
     "height": 442
    },
    "colab_type": "code",
    "id": "igDBlYIz3w4U",
    "outputId": "f0e655d2-9556-42ae-f32f-8d14e001438b"
   },
   "outputs": [
    {
     "data": {
      "text/plain": [
       "array(['fullVisitorId_str', \"('channelGrouping', 'max')\",\n",
       "       \"('visitNumber', 'max')\", \"('visitNumber', 'count')\",\n",
       "       \"('device_browser', 'max')\", \"('device_operatingSystem', 'max')\",\n",
       "       \"('deviceCategory', 'max')\", \"('geoNetwork_continent', 'max')\",\n",
       "       \"('geoNetwork_subContinent', 'max')\",\n",
       "       \"('geoNetwork_country', 'max')\", \"('geoNetwork_region', 'max')\",\n",
       "       \"('geoNetwork_metro', 'max')\", \"('geoNetwork_city', 'max')\",\n",
       "       \"('geoNetwork_networkDomain', 'max')\",\n",
       "       \"('trafficSource_source', 'max')\",\n",
       "       \"('trafficSource_medium', 'max')\",\n",
       "       \"('trafficSource_adwordsClickInfo.isVideoAd', 'mean')\",\n",
       "       \"('device_isMobile', 'mean')\",\n",
       "       \"('trafficSource_isTrueDirect', 'mean')\",\n",
       "       \"('totals_bounces', 'sum')\", \"('totals_hits', 'sum')\",\n",
       "       \"('totals_hits', 'mean')\", \"('totals_hits', 'min')\",\n",
       "       \"('totals_hits', 'max')\", \"('totals_hits', 'median')\",\n",
       "       \"('totals_hits', 'std')\", \"('totals_pageviews', 'sum')\",\n",
       "       \"('totals_pageviews', 'mean')\", \"('totals_pageviews', 'min')\",\n",
       "       \"('totals_pageviews', 'max')\", \"('totals_pageviews', 'median')\",\n",
       "       \"('totals_pageviews', 'std')\",\n",
       "       \"('totals_transactionRevenue', 'sum')\",\n",
       "       \"('totals_transactions', 'sum')\",\n",
       "       \"('first_ses_from_the_period_start', '')\",\n",
       "       \"('last_ses_from_the_period_end', '')\", \"('interval_dates', '')\",\n",
       "       'unique_date_num'], dtype=object)"
      ]
     },
     "execution_count": 57,
     "metadata": {
      "tags": []
     },
     "output_type": "execute_result"
    }
   ],
   "source": [
    "test_df_final.columns.values"
   ]
  },
  {
   "cell_type": "code",
   "execution_count": 59,
   "metadata": {
    "colab": {
     "base_uri": "https://localhost:8080/",
     "height": 419
    },
    "colab_type": "code",
    "id": "lU5R35Nt3jvI",
    "outputId": "898d87de-b98c-4188-c4eb-57040de88115"
   },
   "outputs": [
    {
     "data": {
      "text/html": [
       "<div>\n",
       "<style scoped>\n",
       "    .dataframe tbody tr th:only-of-type {\n",
       "        vertical-align: middle;\n",
       "    }\n",
       "\n",
       "    .dataframe tbody tr th {\n",
       "        vertical-align: top;\n",
       "    }\n",
       "\n",
       "    .dataframe thead th {\n",
       "        text-align: right;\n",
       "    }\n",
       "</style>\n",
       "<table border=\"1\" class=\"dataframe\">\n",
       "  <thead>\n",
       "    <tr style=\"text-align: right;\">\n",
       "      <th></th>\n",
       "      <th>fullVisitorId_str</th>\n",
       "    </tr>\n",
       "  </thead>\n",
       "  <tbody>\n",
       "    <tr>\n",
       "      <th>0</th>\n",
       "      <td>0000018966949534117a</td>\n",
       "    </tr>\n",
       "    <tr>\n",
       "      <th>1</th>\n",
       "      <td>0000039738481224681a</td>\n",
       "    </tr>\n",
       "    <tr>\n",
       "      <th>2</th>\n",
       "      <td>0000073585230191399a</td>\n",
       "    </tr>\n",
       "    <tr>\n",
       "      <th>3</th>\n",
       "      <td>0000087588448856385a</td>\n",
       "    </tr>\n",
       "    <tr>\n",
       "      <th>4</th>\n",
       "      <td>0000149787903119437a</td>\n",
       "    </tr>\n",
       "    <tr>\n",
       "      <th>...</th>\n",
       "      <td>...</td>\n",
       "    </tr>\n",
       "    <tr>\n",
       "      <th>296525</th>\n",
       "      <td>9999862054614696520a</td>\n",
       "    </tr>\n",
       "    <tr>\n",
       "      <th>296526</th>\n",
       "      <td>9999898168621645223a</td>\n",
       "    </tr>\n",
       "    <tr>\n",
       "      <th>296527</th>\n",
       "      <td>999990167740728398a</td>\n",
       "    </tr>\n",
       "    <tr>\n",
       "      <th>296528</th>\n",
       "      <td>9999915620249883537a</td>\n",
       "    </tr>\n",
       "    <tr>\n",
       "      <th>296529</th>\n",
       "      <td>9999947552481876143a</td>\n",
       "    </tr>\n",
       "  </tbody>\n",
       "</table>\n",
       "<p>296530 rows × 1 columns</p>\n",
       "</div>"
      ],
      "text/plain": [
       "           fullVisitorId_str\n",
       "0       0000018966949534117a\n",
       "1       0000039738481224681a\n",
       "2       0000073585230191399a\n",
       "3       0000087588448856385a\n",
       "4       0000149787903119437a\n",
       "...                      ...\n",
       "296525  9999862054614696520a\n",
       "296526  9999898168621645223a\n",
       "296527   999990167740728398a\n",
       "296528  9999915620249883537a\n",
       "296529  9999947552481876143a\n",
       "\n",
       "[296530 rows x 1 columns]"
      ]
     },
     "execution_count": 59,
     "metadata": {
      "tags": []
     },
     "output_type": "execute_result"
    }
   ],
   "source": [
    "fullVisitId = pd.DataFrame(test_df_final['fullVisitorId_str'])\n",
    "fullVisitId"
   ]
  },
  {
   "cell_type": "code",
   "execution_count": 0,
   "metadata": {
    "colab": {},
    "colab_type": "code",
    "id": "I491VOTSG-Oa"
   },
   "outputs": [],
   "source": [
    "#\n",
    "sub_final = fullVisitId.merge(predict_revenue_final, left_index=True, right_index=True)"
   ]
  },
  {
   "cell_type": "code",
   "execution_count": 0,
   "metadata": {
    "colab": {},
    "colab_type": "code",
    "id": "sWZAKCMu5csL"
   },
   "outputs": [],
   "source": [
    "#\n",
    "sub_final = sub_final.rename(columns={0 : 'PredictedLogRevenue'})"
   ]
  },
  {
   "cell_type": "code",
   "execution_count": 0,
   "metadata": {
    "colab": {},
    "colab_type": "code",
    "id": "gxIbphJy5hV8"
   },
   "outputs": [],
   "source": [
    "sub_final = sub_final[['fullVisitorId_str', 'PredictedLogRevenue']]"
   ]
  },
  {
   "cell_type": "code",
   "execution_count": 65,
   "metadata": {
    "colab": {
     "base_uri": "https://localhost:8080/",
     "height": 71
    },
    "colab_type": "code",
    "id": "-hMF9Gkr9dRr",
    "outputId": "741886f8-64fc-4992-a5c5-0892c8b192e0"
   },
   "outputs": [
    {
     "name": "stderr",
     "output_type": "stream",
     "text": [
      "/usr/local/lib/python3.6/dist-packages/IPython/core/interactiveshell.py:2718: DtypeWarning: Columns (0) have mixed types. Specify dtype option on import or set low_memory=False.\n",
      "  interactivity=interactivity, compiler=compiler, result=result)\n"
     ]
    }
   ],
   "source": [
    "super_final = pd.read_csv('/content/drive/Shared drives/#PA_Customer Revenue Prediction/tst4.csv')\n",
    "super_final['PredictedLogRevenue'] = sub_final['PredictedLogRevenue']"
   ]
  },
  {
   "cell_type": "code",
   "execution_count": 66,
   "metadata": {
    "colab": {
     "base_uri": "https://localhost:8080/",
     "height": 419
    },
    "colab_type": "code",
    "id": "HkINc9n46Vin",
    "outputId": "40cbd1c0-8789-48a0-da2c-66a9fe08d535"
   },
   "outputs": [
    {
     "data": {
      "text/html": [
       "<div>\n",
       "<style scoped>\n",
       "    .dataframe tbody tr th:only-of-type {\n",
       "        vertical-align: middle;\n",
       "    }\n",
       "\n",
       "    .dataframe tbody tr th {\n",
       "        vertical-align: top;\n",
       "    }\n",
       "\n",
       "    .dataframe thead th {\n",
       "        text-align: right;\n",
       "    }\n",
       "</style>\n",
       "<table border=\"1\" class=\"dataframe\">\n",
       "  <thead>\n",
       "    <tr style=\"text-align: right;\">\n",
       "      <th></th>\n",
       "      <th>fullVisitorId</th>\n",
       "      <th>PredictedLogRevenue</th>\n",
       "    </tr>\n",
       "  </thead>\n",
       "  <tbody>\n",
       "    <tr>\n",
       "      <th>0</th>\n",
       "      <td>0000018966949534117</td>\n",
       "      <td>0.007360</td>\n",
       "    </tr>\n",
       "    <tr>\n",
       "      <th>1</th>\n",
       "      <td>0000039738481224681</td>\n",
       "      <td>0.008947</td>\n",
       "    </tr>\n",
       "    <tr>\n",
       "      <th>2</th>\n",
       "      <td>0000073585230191399</td>\n",
       "      <td>0.006927</td>\n",
       "    </tr>\n",
       "    <tr>\n",
       "      <th>3</th>\n",
       "      <td>0000087588448856385</td>\n",
       "      <td>0.006479</td>\n",
       "    </tr>\n",
       "    <tr>\n",
       "      <th>4</th>\n",
       "      <td>0000149787903119437</td>\n",
       "      <td>0.006595</td>\n",
       "    </tr>\n",
       "    <tr>\n",
       "      <th>...</th>\n",
       "      <td>...</td>\n",
       "      <td>...</td>\n",
       "    </tr>\n",
       "    <tr>\n",
       "      <th>296525</th>\n",
       "      <td>9999862054614696520</td>\n",
       "      <td>0.000341</td>\n",
       "    </tr>\n",
       "    <tr>\n",
       "      <th>296526</th>\n",
       "      <td>9999898168621645223</td>\n",
       "      <td>0.006594</td>\n",
       "    </tr>\n",
       "    <tr>\n",
       "      <th>296527</th>\n",
       "      <td>999990167740728398</td>\n",
       "      <td>0.008499</td>\n",
       "    </tr>\n",
       "    <tr>\n",
       "      <th>296528</th>\n",
       "      <td>9999915620249883537</td>\n",
       "      <td>0.007244</td>\n",
       "    </tr>\n",
       "    <tr>\n",
       "      <th>296529</th>\n",
       "      <td>9999947552481876143</td>\n",
       "      <td>0.006594</td>\n",
       "    </tr>\n",
       "  </tbody>\n",
       "</table>\n",
       "<p>296530 rows × 2 columns</p>\n",
       "</div>"
      ],
      "text/plain": [
       "              fullVisitorId  PredictedLogRevenue\n",
       "0       0000018966949534117             0.007360\n",
       "1       0000039738481224681             0.008947\n",
       "2       0000073585230191399             0.006927\n",
       "3       0000087588448856385             0.006479\n",
       "4       0000149787903119437             0.006595\n",
       "...                     ...                  ...\n",
       "296525  9999862054614696520             0.000341\n",
       "296526  9999898168621645223             0.006594\n",
       "296527   999990167740728398             0.008499\n",
       "296528  9999915620249883537             0.007244\n",
       "296529  9999947552481876143             0.006594\n",
       "\n",
       "[296530 rows x 2 columns]"
      ]
     },
     "execution_count": 66,
     "metadata": {
      "tags": []
     },
     "output_type": "execute_result"
    }
   ],
   "source": [
    "super_final"
   ]
  },
  {
   "cell_type": "code",
   "execution_count": 0,
   "metadata": {
    "colab": {},
    "colab_type": "code",
    "id": "qluxJWz4_GOL"
   },
   "outputs": [],
   "source": [
    "super_final.to_csv('/content/drive/Shared drives/#PA_Customer Revenue Prediction/final_submission.csv', index = None, header = True)"
   ]
  }
 ],
 "metadata": {
  "accelerator": "GPU",
  "colab": {
   "collapsed_sections": [],
   "machine_shape": "hm",
   "name": "xgboost_regression_only.ipynb",
   "provenance": []
  },
  "kernelspec": {
   "display_name": "Python 3",
   "language": "python",
   "name": "python3"
  },
  "language_info": {
   "codemirror_mode": {
    "name": "ipython",
    "version": 3
   },
   "file_extension": ".py",
   "mimetype": "text/x-python",
   "name": "python",
   "nbconvert_exporter": "python",
   "pygments_lexer": "ipython3",
   "version": "3.7.3"
  }
 },
 "nbformat": 4,
 "nbformat_minor": 1
}
