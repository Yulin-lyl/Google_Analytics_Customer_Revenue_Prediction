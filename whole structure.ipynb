{
  "nbformat": 4,
  "nbformat_minor": 0,
  "metadata": {
    "colab": {
      "name": "GoogleAnalytics_feature_selection.ipynb",
      "provenance": [],
      "collapsed_sections": [],
      "toc_visible": true
    },
    "kernelspec": {
      "name": "python3",
      "display_name": "Python 3"
    },
    "accelerator": "GPU"
  },
  "cells": [
    {
      "cell_type": "code",
      "metadata": {
        "id": "uFFnb2d-xNhK",
        "colab_type": "code",
        "outputId": "54bbe736-f0d1-46a1-de77-5dc6396d4d08",
        "colab": {
          "base_uri": "https://localhost:8080/",
          "height": 54
        }
      },
      "source": [
        "from google.colab import drive\n",
        "drive.mount('/content/drive')"
      ],
      "execution_count": 0,
      "outputs": [
        {
          "output_type": "stream",
          "text": [
            "Drive already mounted at /content/drive; to attempt to forcibly remount, call drive.mount(\"/content/drive\", force_remount=True).\n"
          ],
          "name": "stdout"
        }
      ]
    },
    {
      "cell_type": "markdown",
      "metadata": {
        "id": "xRKBLoCYt7Rp",
        "colab_type": "text"
      },
      "source": [
        "# Agenda\n",
        "  1. Data Cleaning\n",
        "  2. Data Split By Time Frame\n",
        "  3. Feature Selection\n",
        "  4. Aggregate by CustomerID\n",
        "  5. Choose Model"
      ]
    },
    {
      "cell_type": "markdown",
      "metadata": {
        "id": "bzRu7ypjp3N6",
        "colab_type": "text"
      },
      "source": [
        "# Environment Setup"
      ]
    },
    {
      "cell_type": "code",
      "metadata": {
        "id": "Yv31Yqn0qYs8",
        "colab_type": "code",
        "outputId": "8fa830f1-0994-4837-fe6e-de649bbae14d",
        "colab": {
          "base_uri": "https://localhost:8080/",
          "height": 34
        }
      },
      "source": [
        "import os\n",
        "os.chdir('/content/drive/Shared drives/#PA_Customer Revenue Prediction/')\n",
        "os.getcwd()"
      ],
      "execution_count": 0,
      "outputs": [
        {
          "output_type": "execute_result",
          "data": {
            "text/plain": [
              "'/content/drive/Shared drives/#PA_Customer Revenue Prediction'"
            ]
          },
          "metadata": {
            "tags": []
          },
          "execution_count": 4
        }
      ]
    },
    {
      "cell_type": "markdown",
      "metadata": {
        "id": "ikm_pN3pDgDd",
        "colab_type": "text"
      },
      "source": [
        "### Import library"
      ]
    },
    {
      "cell_type": "code",
      "metadata": {
        "id": "hdbfd_1pDivW",
        "colab_type": "code",
        "colab": {}
      },
      "source": [
        "import pandas as pd\n",
        "import numpy as np\n",
        "import datetime\n",
        "import sklearn\n",
        "from sklearn import preprocessing"
      ],
      "execution_count": 0,
      "outputs": []
    },
    {
      "cell_type": "markdown",
      "metadata": {
        "id": "l9tNTQieDldT",
        "colab_type": "text"
      },
      "source": [
        "### Load expanded dataset"
      ]
    },
    {
      "cell_type": "markdown",
      "metadata": {
        "id": "mtzWPyZnDq3-",
        "colab_type": "text"
      },
      "source": [
        "We expand all the complex json fields in the original Google Analytics Dataset using R and saved the expanded csv file as \"cleaned_train_v2.csv\", which serves as starting point for all further analysis."
      ]
    },
    {
      "cell_type": "code",
      "metadata": {
        "id": "SGW2wh9DDqXo",
        "colab_type": "code",
        "outputId": "14f2e91b-db75-4362-8e1c-d9e82197d5b7",
        "colab": {
          "base_uri": "https://localhost:8080/",
          "height": 105
        }
      },
      "source": [
        "raw_train_original = pd.read_csv('cleaned_train_v2.csv', sep = ',')\n",
        "raw_test_original = pd.read_csv('cleaned_test_v2.csv', sep = ',')"
      ],
      "execution_count": 0,
      "outputs": [
        {
          "output_type": "stream",
          "text": [
            "/usr/local/lib/python3.6/dist-packages/IPython/core/interactiveshell.py:2718: DtypeWarning: Columns (3,41) have mixed types. Specify dtype option on import or set low_memory=False.\n",
            "  interactivity=interactivity, compiler=compiler, result=result)\n",
            "/usr/local/lib/python3.6/dist-packages/IPython/core/interactiveshell.py:2718: DtypeWarning: Columns (3) have mixed types. Specify dtype option on import or set low_memory=False.\n",
            "  interactivity=interactivity, compiler=compiler, result=result)\n"
          ],
          "name": "stderr"
        }
      ]
    },
    {
      "cell_type": "markdown",
      "metadata": {
        "id": "wf_9s3Dow_RK",
        "colab_type": "text"
      },
      "source": [
        "# Data Structuring"
      ]
    },
    {
      "cell_type": "markdown",
      "metadata": {
        "id": "uxcPwQppt4Nv",
        "colab_type": "text"
      },
      "source": [
        "### Rename columns"
      ]
    },
    {
      "cell_type": "code",
      "metadata": {
        "id": "dNa77RhfEv8E",
        "colab_type": "code",
        "colab": {}
      },
      "source": [
        "# Rename all the columns for clarity\n",
        "raw_train = raw_train_original.copy()\n",
        "raw_train.columns = ['Unnamed: 0', 'channelGrouping', 'date', 'fullVisitorId', 'visitId',\n",
        "       'visitNumber', 'visitStartTime', 'device_browser', 'device_browserVersion',\n",
        "       'device_browserSize', 'device_operatingSystem', 'device_operatingSystemVersion', 'device_isMobile',\n",
        "       'device_mobileDeviceBranding', 'device_mobileDeviceModel', 'device_mobileInputSelector',\n",
        "       'device_mobileDeviceInfo', 'device_mobileDeviceMarketingName', 'flashVersion',\n",
        "       'language', 'device_screenColors', 'device_screenResolution', 'deviceCategory',\n",
        "       'geoNetwork_continent', 'geoNetwork_subContinent', 'geoNetwork_country', 'geoNetwork_region', 'geoNetwork_metro', 'geoNetwork_city',\n",
        "       'geoNetwork_cityId', 'geoNetwork_networkDomain', 'geoNetwork_latitude', 'geoNetwork_longitude', 'geoNetwork_networkLocation',\n",
        "       'trafficSource_campaign', 'trafficSource_source',  'trafficSource_medium', 'trafficSource_keyword',          \n",
        "       'trafficSource_referralPath',\n",
        "       'trafficSource_isTrueDirect','trafficSource_adContent','campaignCode',\n",
        "       'trafficSource_adwordsClickInfo.criteriaParameters', 'trafficSource_adwordsClickInfo.page',\n",
        "       'trafficSource_adwordsClickInfo.slot', 'trafficSource_adwordsClickInfo.gclId',\n",
        "       'trafficSource_adwordsClickInfo.adNetworkType', 'trafficSource_adwordsClickInfo.isVideoAd',\n",
        "       'totals_visits', 'totals_hits', 'totals_pageviews','totals_bounces','totals_newVisits','totals_sessionQualityDim',\n",
        "       'totals_timeOnSite','totals_transactions', 'totals_transactionRevenue',\n",
        "       'totals_totalTransactionRevenue']"
      ],
      "execution_count": 0,
      "outputs": []
    },
    {
      "cell_type": "code",
      "metadata": {
        "id": "O62qTlm6F8OK",
        "colab_type": "code",
        "colab": {}
      },
      "source": [
        "raw_test = raw_train_original.copy()\n",
        "raw_test.columns = ['Unnamed: 0', 'channelGrouping', 'date', 'fullVisitorId', 'visitId',\n",
        "       'visitNumber', 'visitStartTime', 'device_browser', 'device_browserVersion',\n",
        "       'device_browserSize', 'device_operatingSystem', 'device_operatingSystemVersion', 'device_isMobile',\n",
        "       'device_mobileDeviceBranding', 'device_mobileDeviceModel', 'device_mobileInputSelector',\n",
        "       'device_mobileDeviceInfo', 'device_mobileDeviceMarketingName', 'flashVersion',\n",
        "       'language', 'device_screenColors', 'device_screenResolution', 'deviceCategory',\n",
        "       'geoNetwork_continent', 'geoNetwork_subContinent', 'geoNetwork_country', 'geoNetwork_region', 'geoNetwork_metro', 'geoNetwork_city',\n",
        "       'geoNetwork_cityId', 'geoNetwork_networkDomain', 'geoNetwork_latitude', 'geoNetwork_longitude', 'geoNetwork_networkLocation',\n",
        "       'trafficSource_campaign', 'trafficSource_source',  'trafficSource_medium', 'trafficSource_keyword', 'trafficSource_referralPath', \n",
        "       'trafficSource_isTrueDirect', 'trafficSource_adContent',  'campaignCode',\n",
        "       'trafficSource_adwordsClickInfo.criteriaParameters', \n",
        "       'trafficSource_adwordsClickInfo.page', 'trafficSource_adwordsClickInfo.slot',\n",
        "       'trafficSource_adwordsClickInfo.gclId', 'trafficSource_adwordsClickInfo.adNetworkType',\n",
        "       'trafficSource_adwordsClickInfo.isVideoAd', 'totals_visits', 'totals_hits', 'totals_pageviews', \n",
        "       'totals_timeOnSite', 'totals_sessionQualityDim', 'totals_newVisits', 'totals_transactions', \n",
        "       'totals_transactionRevenue', 'totals_totalTransactionRevenue', 'totals_bounces']"
      ],
      "execution_count": 0,
      "outputs": []
    },
    {
      "cell_type": "code",
      "metadata": {
        "id": "87ZA8cn-E0qm",
        "colab_type": "code",
        "colab": {}
      },
      "source": [
        "# view current data type\n",
        "#raw_train.dtypes\n",
        "#raw_test.dtypes"
      ],
      "execution_count": 0,
      "outputs": []
    },
    {
      "cell_type": "markdown",
      "metadata": {
        "id": "2kyCMnf_3AHj",
        "colab_type": "text"
      },
      "source": [
        "### Drop bad columns"
      ]
    },
    {
      "cell_type": "code",
      "metadata": {
        "id": "gNBaBryPE4EL",
        "colab_type": "code",
        "colab": {}
      },
      "source": [
        "# columns that we decide to eliminate\n",
        "columns_delete = ['device_browserSize','device_browserVersion','flashVersion','language', \\\n",
        "                 'device_mobileDeviceBranding','device_mobileDeviceInfo','device_mobileDeviceMarketingName', \\\n",
        "                 'device_mobileDeviceModel','device_mobileInputSelector','device_operatingSystemVersion', \\\n",
        "                 'device_screenColors','device_screenResolution','geoNetwork_cityId','geoNetwork_latitude', \\\n",
        "                 'geoNetwork_longitude','geoNetwork_networkLocation','trafficSource_adwordsClickInfo.criteriaParameters']"
      ],
      "execution_count": 0,
      "outputs": []
    },
    {
      "cell_type": "code",
      "metadata": {
        "id": "QqEG8I-MfL4s",
        "colab_type": "code",
        "colab": {}
      },
      "source": [
        "# drop those columns\n",
        "raw_train1 = raw_train.drop(columns_delete, axis =1)"
      ],
      "execution_count": 0,
      "outputs": []
    },
    {
      "cell_type": "code",
      "metadata": {
        "id": "K_ICEOfZfTkk",
        "colab_type": "code",
        "colab": {}
      },
      "source": [
        "raw_test1 = raw_test.drop(columns_delete, axis =1)"
      ],
      "execution_count": 0,
      "outputs": []
    },
    {
      "cell_type": "markdown",
      "metadata": {
        "id": "G6PoCDt72Kt6",
        "colab_type": "text"
      },
      "source": [
        "### Convert number characters to numerics"
      ]
    },
    {
      "cell_type": "code",
      "metadata": {
        "id": "89GRbmtSxTB4",
        "colab_type": "code",
        "colab": {}
      },
      "source": [
        "# columns that are composed of numbers but are misread as categorical data\n",
        "columns_like_num_cate = ['totals_bounces','totals_hits','totals_newVisits','totals_pageviews', \\\n",
        "                        'totals_sessionQualityDim','totals_timeOnSite','totals_totalTransactionRevenue', \\\n",
        "                        'totals_transactionRevenue','totals_transactions','totals_visits','trafficSource_adwordsClickInfo.page']"
      ],
      "execution_count": 0,
      "outputs": []
    },
    {
      "cell_type": "code",
      "metadata": {
        "id": "SgBeLIhAfccf",
        "colab_type": "code",
        "colab": {}
      },
      "source": [
        "# convert those columns into numerical data\n",
        "raw_train2 = raw_train1.copy()\n",
        "raw_train2[columns_like_num_cate] = raw_train2[columns_like_num_cate].applymap(lambda x: pd.to_numeric(x, errors='ignore'))"
      ],
      "execution_count": 0,
      "outputs": []
    },
    {
      "cell_type": "code",
      "metadata": {
        "id": "vZFpqxoZfgbP",
        "colab_type": "code",
        "colab": {}
      },
      "source": [
        "raw_test2 = raw_test1.copy()\n",
        "raw_test2[columns_like_num_cate] = raw_test2[columns_like_num_cate].applymap(lambda x: pd.to_numeric(x, errors='ignore'))"
      ],
      "execution_count": 0,
      "outputs": []
    },
    {
      "cell_type": "markdown",
      "metadata": {
        "id": "_ggezdVR2hm-",
        "colab_type": "text"
      },
      "source": [
        "### Convert categorical data using dummies"
      ]
    },
    {
      "cell_type": "code",
      "metadata": {
        "id": "P_4hZ4f3zOGx",
        "colab_type": "code",
        "colab": {}
      },
      "source": [
        "# categorical columns that needs dummies to be converted into numerics\n",
        "columns_cate = ['channelGrouping','device_browser','deviceCategory', \\\n",
        "               'device_operatingSystem','device_isMobile','geoNetwork_city','geoNetwork_continent','geoNetwork_country', \\\n",
        "               'geoNetwork_metro','geoNetwork_networkDomain','geoNetwork_region','geoNetwork_subContinent', \\\n",
        "               'trafficSource_adContent','trafficSource_adwordsClickInfo.adNetworkType','trafficSource_adwordsClickInfo.gclId', \\\n",
        "               'trafficSource_adwordsClickInfo.isVideoAd','trafficSource_adwordsClickInfo.slot', \\\n",
        "               'trafficSource_campaign','trafficSource_isTrueDirect','trafficSource_keyword', \\\n",
        "               'trafficSource_medium','trafficSource_referralPath','trafficSource_source']"
      ],
      "execution_count": 0,
      "outputs": []
    },
    {
      "cell_type": "code",
      "metadata": {
        "id": "Yrx2uCApfmLe",
        "colab_type": "code",
        "colab": {}
      },
      "source": [
        "# convert those columns into dummies with label encoder\n",
        "raw_train3 = raw_train2.copy()\n",
        "for col in columns_cate:\n",
        "    print(col)\n",
        "    lbl = preprocessing.LabelEncoder()\n",
        "    lbl.fit(list(raw_train3[col].values.astype('str')))\n",
        "    raw_train3[col] = lbl.transform(list(raw_train3[col].values.astype('str')))"
      ],
      "execution_count": 0,
      "outputs": []
    },
    {
      "cell_type": "code",
      "metadata": {
        "id": "W3MNV1uSfo6-",
        "colab_type": "code",
        "outputId": "adf19d46-7393-4cd1-e4d5-4979b15124a3",
        "colab": {
          "base_uri": "https://localhost:8080/",
          "height": 408
        }
      },
      "source": [
        "raw_test3 = raw_test2.copy()\n",
        "for col in columns_cate:\n",
        "    print(col)\n",
        "    lbl = preprocessing.LabelEncoder()\n",
        "    lbl.fit(list(raw_test3[col].values.astype('str')))\n",
        "    raw_test3[col] = lbl.transform(list(raw_test3[col].values.astype('str')))"
      ],
      "execution_count": 0,
      "outputs": [
        {
          "output_type": "stream",
          "text": [
            "channelGrouping\n",
            "device_browser\n",
            "deviceCategory\n",
            "device_operatingSystem\n",
            "device_isMobile\n",
            "geoNetwork_city\n",
            "geoNetwork_continent\n",
            "geoNetwork_country\n",
            "geoNetwork_metro\n",
            "geoNetwork_networkDomain\n",
            "geoNetwork_region\n",
            "geoNetwork_subContinent\n",
            "trafficSource_adContent\n",
            "trafficSource_adwordsClickInfo.adNetworkType\n",
            "trafficSource_adwordsClickInfo.gclId\n",
            "trafficSource_adwordsClickInfo.isVideoAd\n",
            "trafficSource_adwordsClickInfo.slot\n",
            "trafficSource_campaign\n",
            "trafficSource_isTrueDirect\n",
            "trafficSource_keyword\n",
            "trafficSource_medium\n",
            "trafficSource_referralPath\n",
            "trafficSource_source\n"
          ],
          "name": "stdout"
        }
      ]
    },
    {
      "cell_type": "markdown",
      "metadata": {
        "id": "L-R0_KuW4BRC",
        "colab_type": "text"
      },
      "source": [
        "### Impute null revenue"
      ]
    },
    {
      "cell_type": "code",
      "metadata": {
        "id": "nJ79Fwy_GmJi",
        "colab_type": "code",
        "outputId": "556323b3-f065-4353-bf8b-55e65459ed5a",
        "colab": {
          "base_uri": "https://localhost:8080/",
          "height": 170
        }
      },
      "source": [
        "# since most transaction revenue is null, we decide to replace it to 0\n",
        "raw_train4 = raw_train3.copy()\n",
        "raw_train4['totals_transactionRevenue'] = raw_train4['totals_transactionRevenue'].fillna(0)\n",
        "raw_train4['totals_transactionRevenue'].describe()"
      ],
      "execution_count": 0,
      "outputs": [
        {
          "output_type": "execute_result",
          "data": {
            "text/plain": [
              "count    1.708337e+06\n",
              "mean     1.355906e+06\n",
              "std      4.522809e+07\n",
              "min      0.000000e+00\n",
              "25%      0.000000e+00\n",
              "50%      0.000000e+00\n",
              "75%      0.000000e+00\n",
              "max      2.312950e+10\n",
              "Name: totals_transactionRevenue, dtype: float64"
            ]
          },
          "metadata": {
            "tags": []
          },
          "execution_count": 20
        }
      ]
    },
    {
      "cell_type": "code",
      "metadata": {
        "id": "Xzia8t7nG6ki",
        "colab_type": "code",
        "colab": {}
      },
      "source": [
        "# for numerical data, change NA into 0\n",
        "# for categorical data, change NA into -999\n",
        "raw_train4[columns_like_num_cate] = raw_train4[columns_like_num_cate].fillna(0)\n",
        "raw_train4[columns_cate] = raw_train4[columns_cate].fillna(-999)"
      ],
      "execution_count": 0,
      "outputs": []
    },
    {
      "cell_type": "code",
      "metadata": {
        "id": "fpvEWgALRPL2",
        "colab_type": "code",
        "outputId": "203a486b-f888-4c45-b41b-9575e2668fc3",
        "colab": {
          "base_uri": "https://localhost:8080/",
          "height": 170
        }
      },
      "source": [
        "raw_test4 = raw_test3.copy()\n",
        "raw_test4['totals_transactionRevenue'] = raw_test4['totals_transactionRevenue'].fillna(0)\n",
        "raw_test4['totals_transactionRevenue'].describe()"
      ],
      "execution_count": 0,
      "outputs": [
        {
          "output_type": "execute_result",
          "data": {
            "text/plain": [
              "count    1.708337e+06\n",
              "mean     1.131510e-02\n",
              "std      1.154636e-01\n",
              "min      0.000000e+00\n",
              "25%      0.000000e+00\n",
              "50%      0.000000e+00\n",
              "75%      0.000000e+00\n",
              "max      2.500000e+01\n",
              "Name: totals_transactionRevenue, dtype: float64"
            ]
          },
          "metadata": {
            "tags": []
          },
          "execution_count": 16
        }
      ]
    },
    {
      "cell_type": "code",
      "metadata": {
        "id": "eUvTxX5Sf5-D",
        "colab_type": "code",
        "colab": {}
      },
      "source": [
        "raw_test4[columns_like_num_cate] = raw_test[columns_like_num_cate].fillna(0)\n",
        "raw_test4[columns_cate] = raw_test[columns_cate].fillna(-999)"
      ],
      "execution_count": 0,
      "outputs": []
    },
    {
      "cell_type": "markdown",
      "metadata": {
        "id": "cI3eq9dU004Z",
        "colab_type": "text"
      },
      "source": [
        "# 2. Feature Selection"
      ]
    },
    {
      "cell_type": "markdown",
      "metadata": {
        "id": "gYrvRaYZ1v8_",
        "colab_type": "text"
      },
      "source": [
        "### 1) LightBGM"
      ]
    },
    {
      "cell_type": "code",
      "metadata": {
        "id": "4iPWABAuPQfE",
        "colab_type": "code",
        "outputId": "f4cb7367-cc8e-4a79-ffab-8d1090d628c8",
        "colab": {
          "base_uri": "https://localhost:8080/",
          "height": 122
        }
      },
      "source": [
        "pip install lightgbm"
      ],
      "execution_count": 0,
      "outputs": [
        {
          "output_type": "stream",
          "text": [
            "Requirement already satisfied: lightgbm in /usr/local/lib/python3.6/dist-packages (2.2.3)\n",
            "Requirement already satisfied: scikit-learn in /usr/local/lib/python3.6/dist-packages (from lightgbm) (0.21.3)\n",
            "Requirement already satisfied: scipy in /usr/local/lib/python3.6/dist-packages (from lightgbm) (1.3.2)\n",
            "Requirement already satisfied: numpy in /usr/local/lib/python3.6/dist-packages (from lightgbm) (1.17.4)\n",
            "Requirement already satisfied: joblib>=0.11 in /usr/local/lib/python3.6/dist-packages (from scikit-learn->lightgbm) (0.14.0)\n"
          ],
          "name": "stdout"
        }
      ]
    },
    {
      "cell_type": "code",
      "metadata": {
        "id": "sKtAXcowrDFo",
        "colab_type": "code",
        "outputId": "6342ef25-cd66-4dbf-936b-074e17268561",
        "colab": {
          "base_uri": "https://localhost:8080/",
          "height": 105
        }
      },
      "source": [
        "train_df = pd.read_csv('train.csv')\n",
        "test_df = pd.read_csv('test.csv')"
      ],
      "execution_count": 0,
      "outputs": [
        {
          "output_type": "stream",
          "text": [
            "/usr/local/lib/python3.6/dist-packages/IPython/core/interactiveshell.py:2718: DtypeWarning: Columns (4,26) have mixed types. Specify dtype option on import or set low_memory=False.\n",
            "  interactivity=interactivity, compiler=compiler, result=result)\n",
            "/usr/local/lib/python3.6/dist-packages/IPython/core/interactiveshell.py:2718: DtypeWarning: Columns (4) have mixed types. Specify dtype option on import or set low_memory=False.\n",
            "  interactivity=interactivity, compiler=compiler, result=result)\n"
          ],
          "name": "stderr"
        }
      ]
    },
    {
      "cell_type": "code",
      "metadata": {
        "id": "Uok1UVUA1LeV",
        "colab_type": "code",
        "colab": {}
      },
      "source": [
        "clean = train_df.copy()\n",
        "test = test_df.copy()"
      ],
      "execution_count": 0,
      "outputs": []
    },
    {
      "cell_type": "code",
      "metadata": {
        "id": "0pVTdCQyO66k",
        "colab_type": "code",
        "colab": {}
      },
      "source": [
        "from sklearn import ensemble\n",
        "import pandas as pd\n",
        "from sklearn.feature_selection import SelectFromModel"
      ],
      "execution_count": 0,
      "outputs": []
    },
    {
      "cell_type": "code",
      "metadata": {
        "id": "y-4ar_MTPAMD",
        "colab_type": "code",
        "colab": {}
      },
      "source": [
        "columns_cate = ['channelGrouping','device_browser','deviceCategory', \\\n",
        "               'device_operatingSystem','device_isMobile','geoNetwork_city','geoNetwork_continent','geoNetwork_country', \\\n",
        "               'geoNetwork_metro','geoNetwork_networkDomain','geoNetwork_region','geoNetwork_subContinent', \\\n",
        "               'trafficSource_adContent','trafficSource_adwordsClickInfo.adNetworkType','trafficSource_adwordsClickInfo.gclId', \\\n",
        "               'trafficSource_adwordsClickInfo.isVideoAd','trafficSource_adwordsClickInfo.slot', \\\n",
        "               'trafficSource_campaign','trafficSource_isTrueDirect','trafficSource_keyword', \\\n",
        "                'trafficSource_medium','trafficSource_referralPath','trafficSource_source']\n",
        "columns_num = ['visitNumber','totals_bounces','totals_hits','totals_newVisits','totals_pageviews', \\\n",
        "                        'totals_sessionQualityDim','totals_timeOnSite','totals_transactions','totals_visits','trafficSource_adwordsClickInfo.page']"
      ],
      "execution_count": 0,
      "outputs": []
    },
    {
      "cell_type": "code",
      "metadata": {
        "id": "x8pc5bVrPEM1",
        "colab_type": "code",
        "colab": {}
      },
      "source": [
        "import datetime\n",
        "import numpy as np"
      ],
      "execution_count": 0,
      "outputs": []
    },
    {
      "cell_type": "code",
      "metadata": {
        "id": "NjvZCmSlPJ7c",
        "colab_type": "code",
        "colab": {}
      },
      "source": [
        "# Split the train dataset into development and valid based on time \n",
        "dev_df = clean[clean['date']<= '2017-05-31']\n",
        "val_df = clean[clean['date']> '2017-05-31']\n",
        "dev_y = np.log1p(dev_df[\"totals_transactionRevenue\"].values)\n",
        "val_y = np.log1p(val_df[\"totals_transactionRevenue\"].values)\n",
        "\n",
        "dev_X = dev_df[columns_cate + columns_num] \n",
        "val_X = val_df[columns_cate + columns_num] \n",
        "test_X = test[columns_cate + columns_num]"
      ],
      "execution_count": 0,
      "outputs": []
    },
    {
      "cell_type": "code",
      "metadata": {
        "id": "FwQcozg2PPSI",
        "colab_type": "code",
        "colab": {}
      },
      "source": [
        "import lightgbm as lgb"
      ],
      "execution_count": 0,
      "outputs": []
    },
    {
      "cell_type": "code",
      "metadata": {
        "id": "QDUxgQ92PXfG",
        "colab_type": "code",
        "outputId": "0fea5130-60b1-4c0b-bec3-c7dd03af8f6b",
        "colab": {
          "base_uri": "https://localhost:8080/",
          "height": 102
        }
      },
      "source": [
        "def run_lgb(train_X, train_y, val_X, val_y, test_X):\n",
        "    params = {\n",
        "        \"objective\" : \"regression\",\n",
        "        \"metric\" : \"rmse\", \n",
        "        \"num_leaves\" : 30,\n",
        "        \"min_child_samples\" : 100,\n",
        "        \"learning_rate\" : 0.1,\n",
        "        \"bagging_fraction\" : 0.7,\n",
        "        \"feature_fraction\" : 0.5,\n",
        "        \"bagging_frequency\" : 5,\n",
        "        \"bagging_seed\" : 2018,\n",
        "        \"verbosity\" : -1\n",
        "    }\n",
        "    \n",
        "    lgtrain = lgb.Dataset(train_X, label=train_y)\n",
        "    lgval = lgb.Dataset(val_X, label=val_y)\n",
        "    model = lgb.train(params, lgtrain, 1000, valid_sets=[lgval], early_stopping_rounds=100, verbose_eval=100)\n",
        "    \n",
        "    pred_test_y = model.predict(test_X, num_iteration=model.best_iteration)\n",
        "    pred_val_y = model.predict(val_X, num_iteration=model.best_iteration)\n",
        "    return pred_test_y, model, pred_val_y\n",
        "\n",
        "# Training the model #\n",
        "pred_test, model, pred_val = run_lgb(dev_X, dev_y, val_X, val_y, test_X)"
      ],
      "execution_count": 0,
      "outputs": [
        {
          "output_type": "stream",
          "text": [
            "Training until validation scores don't improve for 100 rounds.\n",
            "[100]\tvalid_0's rmse: 0.125044\n",
            "[200]\tvalid_0's rmse: 0.122864\n",
            "Early stopping, best iteration is:\n",
            "[172]\tvalid_0's rmse: 0.122295\n"
          ],
          "name": "stdout"
        }
      ]
    },
    {
      "cell_type": "code",
      "metadata": {
        "id": "rNFBa2lzPrUm",
        "colab_type": "code",
        "outputId": "b1d96fcb-fcab-41ba-ba88-7dbdbf03e80c",
        "colab": {
          "base_uri": "https://localhost:8080/",
          "height": 34
        }
      },
      "source": [
        "from sklearn import metrics\n",
        "pred_val[pred_val<0] = 0\n",
        "val_pred_df = pd.DataFrame({\"fullVisitorId_str\":val_df[\"fullVisitorId_str\"].values})\n",
        "val_pred_df[\"transactionRevenue\"] = val_df[\"totals_transactionRevenue\"].values\n",
        "val_pred_df[\"PredictedRevenue\"] = np.expm1(pred_val)\n",
        "#print(np.sqrt(metrics.mean_squared_error(np.log1p(val_pred_df[\"transactionRevenue\"].values), np.log1p(val_pred_df[\"PredictedRevenue\"].values))))\n",
        "val_pred_df = val_pred_df.groupby(\"fullVisitorId_str\")[\"transactionRevenue\", \"PredictedRevenue\"].sum().reset_index()\n",
        "print(np.sqrt(metrics.mean_squared_error(np.log1p(val_pred_df[\"transactionRevenue\"].values), np.log1p(val_pred_df[\"PredictedRevenue\"].values))))"
      ],
      "execution_count": 0,
      "outputs": [
        {
          "output_type": "stream",
          "text": [
            "0.1220432876391895\n"
          ],
          "name": "stdout"
        }
      ]
    },
    {
      "cell_type": "code",
      "metadata": {
        "id": "EaMDfPKxPwAt",
        "colab_type": "code",
        "colab": {}
      },
      "source": [
        "test_id = test['fullVisitorId_str'].values\n",
        "sub_df = pd.DataFrame({\"fullVisitorId_str\":test_id})\n",
        "pred_test[pred_test<0] = 0\n",
        "sub_df[\"PredictedLogRevenue\"] = np.expm1(pred_test)\n",
        "sub_df = sub_df.groupby(\"fullVisitorId_str\")[\"PredictedLogRevenue\"].sum().reset_index()\n",
        "sub_df.columns = [\"fullVisitorId_str\", \"PredictedLogRevenue\"]\n",
        "sub_df[\"PredictedLogRevenue\"] = np.log1p(sub_df[\"PredictedLogRevenue\"])\n",
        "sub_df.to_csv(\"baseline_lgb.csv\", index=False)"
      ],
      "execution_count": 0,
      "outputs": []
    },
    {
      "cell_type": "code",
      "metadata": {
        "id": "EtdrXrflQGTs",
        "colab_type": "code",
        "outputId": "9c8e9b74-61ff-4b13-a37c-feacf5710a58",
        "colab": {
          "base_uri": "https://localhost:8080/",
          "height": 1000
        }
      },
      "source": [
        "import matplotlib.pyplot as plt\n",
        "fig, ax = plt.subplots(figsize=(12,18))\n",
        "lgb.plot_importance(model, max_num_features=50, height=0.8, ax=ax)\n",
        "ax.grid(False)\n",
        "plt.title(\"LightGBM - Feature Importance\", fontsize=15)\n",
        "plt.show()"
      ],
      "execution_count": 0,
      "outputs": [
        {
          "output_type": "display_data",
          "data": {
            "image/png": "[encoded data removed]",
            "text/plain": [
              "<Figure size 864x1296 with 1 Axes>"
            ]
          },
          "metadata": {
            "tags": []
          }
        }
      ]
    },
    {
      "cell_type": "markdown",
      "metadata": {
        "id": "FoatHJX412AB",
        "colab_type": "text"
      },
      "source": [
        "### 2) XGBoost"
      ]
    },
    {
      "cell_type": "code",
      "metadata": {
        "id": "1UGyyNA_1vrn",
        "colab_type": "code",
        "outputId": "486d9d5c-4cd7-46a1-e102-83392b4840bb",
        "colab": {
          "base_uri": "https://localhost:8080/",
          "height": 504
        }
      },
      "source": [
        "from numpy import loadtxt\n",
        "from xgboost import XGBClassifier\n",
        "from xgboost import XGBRegressor\n",
        "import xgboost as xgb\n",
        "from xgboost import plot_importance\n",
        "import matplotlib.pyplot as plt\n",
        "import pandas as pd\n",
        "\n",
        "data = train_df\n",
        "x = data.iloc[:,0:56]\n",
        "y = data['totals_transactionRevenue']\n",
        "y[y.isnull()] = 0\n",
        "\n",
        "x = x[['channelGrouping',\n",
        "    \t'visitNumber', 'visitStartTime',\n",
        "   \t'device_browser',\n",
        "   \t'device_operatingSystem',\n",
        "   \t'device_isMobile',  'deviceCategory',\n",
        "   \t'geoNetwork_continent', 'geoNetwork_subContinent',\n",
        "   \t'geoNetwork_country', 'geoNetwork_region', 'geoNetwork_metro',\n",
        "   \t'geoNetwork_city', 'geoNetwork_networkDomain',\n",
        "   \t'trafficSource_campaign',\n",
        "   \t'trafficSource_source', 'trafficSource_medium',\n",
        "   \t'trafficSource_keyword', 'trafficSource_referralPath',\n",
        "   \t'trafficSource_isTrueDirect', 'trafficSource_adContent',\n",
        "   \t'trafficSource_adwordsClickInfo.page',\n",
        "   \t'trafficSource_adwordsClickInfo.slot',\n",
        "   \t'trafficSource_adwordsClickInfo.gclId',\n",
        "   \t'trafficSource_adwordsClickInfo.adNetworkType',\n",
        "   \t'trafficSource_adwordsClickInfo.isVideoAd', 'totals_visits',\n",
        "   \t'totals_hits', 'totals_pageviews', 'totals_bounces',\n",
        "   \t'totals_newVisits', 'totals_sessionQualityDim',\n",
        "   \t'totals_timeOnSite' ]]\n",
        "x[x.isnull()] = 0    \n",
        "xg_reg = xgb.XGBRegressor(objective ='reg:linear', colsample_bytree = 0.3, learning_rate = 0.1, max_depth = 5,\n",
        "                     \talpha = 10, n_estimators = 10)\n",
        "xg_reg.fit(x, y)\n",
        "import matplotlib.pyplot as plt\n",
        "xgb.plot_importance(xg_reg)\n",
        "plt.rcParams['figure.figsize'] = [5, 5]\n",
        "plt.title('Xgboost - Feature Importance', fontsize = 15)"
      ],
      "execution_count": 0,
      "outputs": [
        {
          "output_type": "stream",
          "text": [
            "/usr/local/lib/python3.6/dist-packages/ipykernel_launcher.py:12: SettingWithCopyWarning: \n",
            "A value is trying to be set on a copy of a slice from a DataFrame\n",
            "\n",
            "See the caveats in the documentation: http://pandas.pydata.org/pandas-docs/stable/user_guide/indexing.html#returning-a-view-versus-a-copy\n",
            "  if sys.path[0] == '':\n",
            "/usr/local/lib/python3.6/dist-packages/xgboost/core.py:587: FutureWarning: Series.base is deprecated and will be removed in a future version\n",
            "  if getattr(data, 'base', None) is not None and \\\n",
            "/usr/local/lib/python3.6/dist-packages/xgboost/core.py:588: FutureWarning: Series.base is deprecated and will be removed in a future version\n",
            "  data.base is not None and isinstance(data, np.ndarray) \\\n"
          ],
          "name": "stderr"
        },
        {
          "output_type": "stream",
          "text": [
            "[03:39:11] WARNING: /workspace/src/objective/regression_obj.cu:152: reg:linear is now deprecated in favor of reg:squarederror.\n"
          ],
          "name": "stdout"
        },
        {
          "output_type": "execute_result",
          "data": {
            "text/plain": [
              "Text(0.5, 1.0, 'Xgboost - Feature Importance')"
            ]
          },
          "metadata": {
            "tags": []
          },
          "execution_count": 39
        },
        {
          "output_type": "display_data",
          "data": {
            "image/png": "[encoded data removed]",
            "text/plain": [
              "<Figure size 432x288 with 1 Axes>"
            ]
          },
          "metadata": {
            "tags": []
          }
        }
      ]
    },
    {
      "cell_type": "markdown",
      "metadata": {
        "id": "D3b09qhPQOIH",
        "colab_type": "text"
      },
      "source": [
        "### 3) Random Forest"
      ]
    },
    {
      "cell_type": "code",
      "metadata": {
        "id": "TQ30MeqFQTS2",
        "colab_type": "code",
        "colab": {}
      },
      "source": [
        "from sklearn.ensemble import RandomForestRegressor\n",
        "\n",
        "rf = RandomForestRegressor(n_estimators = 100,\n",
        "                      \tn_jobs = -1,\n",
        "                      \toob_score = True,\n",
        "                      \tbootstrap = True,\n",
        "                      \trandom_state = 42)\n",
        "\n",
        "rf.fit(x, y)\n",
        "\n",
        "sort_zip = sorted(zip(x.columns, rf.feature_importances_),key= lambda t: t[1])\n",
        "fig, ax = plt.subplots()\n",
        "bar_plot = plt.barh([val[0] for val in sort_zip], [val[1] for val in sort_zip], align='center')\n",
        "plt.title('Random Forest - Feature Importance', fontsize = 15)"
      ],
      "execution_count": 0,
      "outputs": []
    },
    {
      "cell_type": "markdown",
      "metadata": {
        "id": "puAZ-LswzY8F",
        "colab_type": "text"
      },
      "source": [
        "# Data Split by Time Frame"
      ]
    },
    {
      "cell_type": "code",
      "metadata": {
        "id": "chwIg5Iov_pi",
        "colab_type": "code",
        "colab": {}
      },
      "source": [
        "# date_time_str = '2018-06-29 08:15:27.243860' (2016-08-01 to 2018-04-30)\n",
        "def split_by_date(df, start_date_str):\n",
        "    df['date'] = pd.to_datetime(df['date'])\n",
        "    \n",
        "    start_date_X = datetime.datetime.strptime(start_date_str, '%Y-%m-%d')\n",
        "    end_date_X = start_date_X + datetime.timedelta(days=168)\n",
        "    \n",
        "    start_date_y = end_date_X + datetime.timedelta(days=46)\n",
        "    end_date_y = start_date_y + datetime.timedelta(days=62)\n",
        "    \n",
        "    mask_X = (df['date'] >= start_date_X) & (df['date'] < end_date_X)\n",
        "    mask_y = (df['date'] >= start_date_y) & (df['date'] < end_date_y)\n",
        "    \n",
        "    X = df.loc[mask_X]\n",
        "    y = df.loc[mask_y]\n",
        "    \n",
        "    return X, y"
      ],
      "execution_count": 0,
      "outputs": []
    },
    {
      "cell_type": "code",
      "metadata": {
        "id": "iMqmd1zpwWyI",
        "colab_type": "code",
        "colab": {}
      },
      "source": [
        "data = pd.read_csv('train.csv')\n",
        "#data = raw_train4\n",
        "data['tf_maxdate'] = data['date'].max()\n",
        "data['tf_mindate'] = data['date'].min()\n",
        "\n",
        "X1, y1 = split_by_date(data, '2016-08-01')\n",
        "X2, y2 = split_by_date(data, '2017-01-16')\n",
        "X3, y3 = split_by_date(data, '2017-07-03')\n",
        "X4, y4 = split_by_date(data, '2017-12-18')"
      ],
      "execution_count": 0,
      "outputs": []
    },
    {
      "cell_type": "code",
      "metadata": {
        "id": "tZa--B2pDViL",
        "colab_type": "code",
        "outputId": "2d9d8b8b-9362-4534-ae81-f80b646e1a87",
        "colab": {
          "base_uri": "https://localhost:8080/",
          "height": 182
        }
      },
      "source": [
        "X1.head(2)"
      ],
      "execution_count": 0,
      "outputs": [
        {
          "output_type": "execute_result",
          "data": {
            "text/html": [
              "<div>\n",
              "<style scoped>\n",
              "    .dataframe tbody tr th:only-of-type {\n",
              "        vertical-align: middle;\n",
              "    }\n",
              "\n",
              "    .dataframe tbody tr th {\n",
              "        vertical-align: top;\n",
              "    }\n",
              "\n",
              "    .dataframe thead th {\n",
              "        text-align: right;\n",
              "    }\n",
              "</style>\n",
              "<table border=\"1\" class=\"dataframe\">\n",
              "  <thead>\n",
              "    <tr style=\"text-align: right;\">\n",
              "      <th></th>\n",
              "      <th>Unnamed: 0</th>\n",
              "      <th>channelGrouping</th>\n",
              "      <th>date</th>\n",
              "      <th>fullVisitorId</th>\n",
              "      <th>visitId</th>\n",
              "      <th>visitNumber</th>\n",
              "      <th>visitStartTime</th>\n",
              "      <th>device_browser</th>\n",
              "      <th>device_operatingSystem</th>\n",
              "      <th>device_isMobile</th>\n",
              "      <th>deviceCategory</th>\n",
              "      <th>geoNetwork_continent</th>\n",
              "      <th>geoNetwork_subContinent</th>\n",
              "      <th>geoNetwork_country</th>\n",
              "      <th>geoNetwork_region</th>\n",
              "      <th>geoNetwork_metro</th>\n",
              "      <th>geoNetwork_city</th>\n",
              "      <th>geoNetwork_networkDomain</th>\n",
              "      <th>trafficSource_campaign</th>\n",
              "      <th>trafficSource_source</th>\n",
              "      <th>trafficSource_medium</th>\n",
              "      <th>trafficSource_keyword</th>\n",
              "      <th>trafficSource_referralPath</th>\n",
              "      <th>trafficSource_isTrueDirect</th>\n",
              "      <th>trafficSource_adContent</th>\n",
              "      <th>campaignCode</th>\n",
              "      <th>trafficSource_adwordsClickInfo.page</th>\n",
              "      <th>trafficSource_adwordsClickInfo.slot</th>\n",
              "      <th>trafficSource_adwordsClickInfo.gclId</th>\n",
              "      <th>trafficSource_adwordsClickInfo.adNetworkType</th>\n",
              "      <th>trafficSource_adwordsClickInfo.isVideoAd</th>\n",
              "      <th>totals_visits</th>\n",
              "      <th>totals_hits</th>\n",
              "      <th>totals_pageviews</th>\n",
              "      <th>totals_bounces</th>\n",
              "      <th>totals_newVisits</th>\n",
              "      <th>totals_sessionQualityDim</th>\n",
              "      <th>totals_timeOnSite</th>\n",
              "      <th>totals_transactions</th>\n",
              "      <th>totals_transactionRevenue</th>\n",
              "      <th>totals_totalTransactionRevenue</th>\n",
              "      <th>tf_maxdate</th>\n",
              "      <th>tf_mindate</th>\n",
              "    </tr>\n",
              "  </thead>\n",
              "  <tbody>\n",
              "    <tr>\n",
              "      <th>2989</th>\n",
              "      <td>2990</td>\n",
              "      <td>4</td>\n",
              "      <td>2016-09-02</td>\n",
              "      <td>9499785259412240342</td>\n",
              "      <td>1472812272</td>\n",
              "      <td>1</td>\n",
              "      <td>1472812272</td>\n",
              "      <td>43</td>\n",
              "      <td>20</td>\n",
              "      <td>0</td>\n",
              "      <td>0</td>\n",
              "      <td>4</td>\n",
              "      <td>22</td>\n",
              "      <td>144</td>\n",
              "      <td>482</td>\n",
              "      <td>122</td>\n",
              "      <td>955</td>\n",
              "      <td>6636</td>\n",
              "      <td>4</td>\n",
              "      <td>99</td>\n",
              "      <td>5</td>\n",
              "      <td>7</td>\n",
              "      <td>3196</td>\n",
              "      <td>1</td>\n",
              "      <td>62</td>\n",
              "      <td>NaN</td>\n",
              "      <td>0.0</td>\n",
              "      <td>3</td>\n",
              "      <td>59008</td>\n",
              "      <td>3</td>\n",
              "      <td>1</td>\n",
              "      <td>1</td>\n",
              "      <td>1</td>\n",
              "      <td>1.0</td>\n",
              "      <td>1.0</td>\n",
              "      <td>1.0</td>\n",
              "      <td>0.0</td>\n",
              "      <td>0.0</td>\n",
              "      <td>0.0</td>\n",
              "      <td>0.0</td>\n",
              "      <td>0.0</td>\n",
              "      <td>2018-04-30</td>\n",
              "      <td>2016-08-01</td>\n",
              "    </tr>\n",
              "    <tr>\n",
              "      <th>2990</th>\n",
              "      <td>2991</td>\n",
              "      <td>4</td>\n",
              "      <td>2016-09-02</td>\n",
              "      <td>3696906537737368442</td>\n",
              "      <td>1472856874</td>\n",
              "      <td>1</td>\n",
              "      <td>1472856874</td>\n",
              "      <td>35</td>\n",
              "      <td>20</td>\n",
              "      <td>0</td>\n",
              "      <td>0</td>\n",
              "      <td>2</td>\n",
              "      <td>15</td>\n",
              "      <td>9</td>\n",
              "      <td>67</td>\n",
              "      <td>0</td>\n",
              "      <td>134</td>\n",
              "      <td>28380</td>\n",
              "      <td>4</td>\n",
              "      <td>99</td>\n",
              "      <td>5</td>\n",
              "      <td>7</td>\n",
              "      <td>3196</td>\n",
              "      <td>1</td>\n",
              "      <td>62</td>\n",
              "      <td>NaN</td>\n",
              "      <td>0.0</td>\n",
              "      <td>3</td>\n",
              "      <td>59008</td>\n",
              "      <td>3</td>\n",
              "      <td>1</td>\n",
              "      <td>1</td>\n",
              "      <td>1</td>\n",
              "      <td>1.0</td>\n",
              "      <td>1.0</td>\n",
              "      <td>1.0</td>\n",
              "      <td>0.0</td>\n",
              "      <td>0.0</td>\n",
              "      <td>0.0</td>\n",
              "      <td>0.0</td>\n",
              "      <td>0.0</td>\n",
              "      <td>2018-04-30</td>\n",
              "      <td>2016-08-01</td>\n",
              "    </tr>\n",
              "  </tbody>\n",
              "</table>\n",
              "</div>"
            ],
            "text/plain": [
              "      Unnamed: 0  channelGrouping  ...  tf_maxdate  tf_mindate\n",
              "2989        2990                4  ...  2018-04-30  2016-08-01\n",
              "2990        2991                4  ...  2018-04-30  2016-08-01\n",
              "\n",
              "[2 rows x 43 columns]"
            ]
          },
          "metadata": {
            "tags": []
          },
          "execution_count": 35
        }
      ]
    },
    {
      "cell_type": "markdown",
      "metadata": {
        "id": "thyfPNanMupW",
        "colab_type": "text"
      },
      "source": [
        "# 4. Features/Columns Aggregation"
      ]
    },
    {
      "cell_type": "markdown",
      "metadata": {
        "id": "WZqtuhD3S5OE",
        "colab_type": "text"
      },
      "source": [
        "### Train input"
      ]
    },
    {
      "cell_type": "code",
      "metadata": {
        "id": "YEhW9d5YEI1V",
        "colab_type": "code",
        "colab": {}
      },
      "source": [
        "# add a column 'will_purchase' to indicate if the current unique visitor will make a purchase 2 month later\n",
        "# 1 means will, 0 means no\n",
        "def get_future_purchase(X, y):\n",
        "    X_by_id = X.groupby('fullVisitorId_str').sum()[['device_browser','device_isMobile']]\n",
        "    y_by_id = y.groupby('fullVisitorId_str').sum()[['visitNumber','totals_transactionRevenue']] # or 'totals_transactionRevenue'?\n",
        "    \n",
        "    # DataFrame.join(self, other, on=None, how='left', lsuffix='', rsuffix='', sort=False)\n",
        "    Xy_by_id = X_by_id.join(y_by_id, on='fullVisitorId_str', how='left')\n",
        "    \n",
        "    # df['elderly'] = np.where(df['age']>=50, 'yes', 'no')\n",
        "    Xy_by_id['will_return'] = np.where(np.isnan(Xy_by_id['totals_transactionRevenue']), 0, 1)\n",
        "    Xy_by_id['how_much'] = Xy_by_id['totals_transactionRevenue'].apply(lambda x:np.log(x+1))\n",
        "    Xy_by_id2 = Xy_by_id[['will_return', 'how_much']]\n",
        "    \n",
        "    return Xy_by_id2"
      ],
      "execution_count": 0,
      "outputs": []
    },
    {
      "cell_type": "code",
      "metadata": {
        "id": "Vk9QE9B2N-ly",
        "colab_type": "code",
        "colab": {}
      },
      "source": [
        "#get_future_purchase(X1, y1)"
      ],
      "execution_count": 0,
      "outputs": []
    },
    {
      "cell_type": "code",
      "metadata": {
        "id": "Ny1Pf48IMZox",
        "colab_type": "code",
        "colab": {}
      },
      "source": [
        "def feature_engineer(df):\n",
        "    \n",
        "    date_format = '%Y-%m-%d'\n",
        "    df['date'] = pd.to_datetime(df['date'], format=date_format)\n",
        "    column_cate = ['fullVisitorId_str','channelGrouping','device_browser','device_operatingSystem','deviceCategory','geoNetwork_continent', \\\n",
        "                  'geoNetwork_subContinent','geoNetwork_country','geoNetwork_region','geoNetwork_metro','geoNetwork_city', \\\n",
        "                  'geoNetwork_networkDomain','trafficSource_source','trafficSource_medium']\n",
        "    #for all the categorical data, select the most frequent one\n",
        "    df2 = df[column_cate].groupby('fullVisitorId_str').agg(lambda x: x.value_counts().index[0])\n",
        "\n",
        "    df1 = df.groupby('fullVisitorId_str').agg({'date':['min','max'],\n",
        "                                           'tf_mindate': 'min',\n",
        "                                           'tf_maxdate': 'max',                                      \n",
        "                                           'trafficSource_adwordsClickInfo.isVideoAd': 'mean',\n",
        "                                           'device_isMobile': 'mean',\n",
        "                                           'trafficSource_isTrueDirect': 'mean',\n",
        "                                           'totals_bounces':'sum',\n",
        "                                           'totals_hits': ['sum', 'mean', 'min', 'max', 'median', 'std'],\n",
        "                                           'totals_pageviews': ['sum', 'mean', 'min', 'max', 'median', 'std'], \n",
        "                                           'totals_transactionRevenue': 'sum',\n",
        "                                           'totals_transactions': 'sum'})\n",
        "    df3 = pd.merge(df2,df1,on='fullVisitorId_str')\n",
        "    return df3"
      ],
      "execution_count": 0,
      "outputs": []
    },
    {
      "cell_type": "code",
      "metadata": {
        "id": "vpSP2ZCC-Xss",
        "colab_type": "code",
        "colab": {}
      },
      "source": [
        "#a = feature_engineer(X1)"
      ],
      "execution_count": 0,
      "outputs": []
    },
    {
      "cell_type": "code",
      "metadata": {
        "id": "nSUAWfED07kB",
        "colab_type": "code",
        "colab": {}
      },
      "source": [
        "def feature_engineer2(df1, df):\n",
        "    date_format = '%Y-%m-%d'\n",
        "    df1['first_ses_from_the_period_start'] = df1['date']['min'] - pd.to_datetime(df1['tf_mindate']['min'], format=date_format)\n",
        "    df1['first_ses_from_the_period_start'] = df1['first_ses_from_the_period_start'].astype('timedelta64[D]')\n",
        "    df1['last_ses_from_the_period_end'] = pd.to_datetime(df1['tf_maxdate']['max'], format=date_format) - df1['date']['max']\n",
        "    df1['last_ses_from_the_period_end'] = df1['last_ses_from_the_period_end'].astype('timedelta64[D]')\n",
        "    df1['interval_dates'] = df1['date']['max'] - df1['date']['min']\n",
        "    df1['interval_dates'] = df1['interval_dates'].astype('timedelta64[D]')\n",
        "    df1 = df1.iloc[:,4:]\n",
        "    df2 = df.groupby('fullVisitorId')['date'].nunique().rename('unique_date_num')\n",
        "    df_return = pd.merge(df1, df2, on = 'fullVisitorId')\n",
        "    return df_return"
      ],
      "execution_count": 0,
      "outputs": []
    },
    {
      "cell_type": "code",
      "metadata": {
        "id": "esuOFVKj-ez5",
        "colab_type": "code",
        "colab": {}
      },
      "source": [
        "#feature_engineer2(a, X1)"
      ],
      "execution_count": 0,
      "outputs": []
    },
    {
      "cell_type": "code",
      "metadata": {
        "id": "HLXN9I2EOcSo",
        "colab_type": "code",
        "colab": {}
      },
      "source": [
        "def get_input(X, y):\n",
        "  X1 = get_future_purchase(X, y)\n",
        "  X2 = feature_engineer(X)\n",
        "  X3 = feature_engineer2(X2, X)\n",
        "  X3 = X3.join(X1, on='fullVisitorId_str')\n",
        "\n",
        "  return X3"
      ],
      "execution_count": 0,
      "outputs": []
    },
    {
      "cell_type": "code",
      "metadata": {
        "id": "p9QneaPFNkMS",
        "colab_type": "code",
        "colab": {}
      },
      "source": [
        "train1 = get_input(X1, y1)\n",
        "train2 = get_input(X2, y2)\n",
        "train3 = get_input(X3, y3)\n",
        "#train4 = get_input(X4, y4)"
      ],
      "execution_count": 0,
      "outputs": []
    },
    {
      "cell_type": "code",
      "metadata": {
        "id": "dhB5mnRxAzWA",
        "colab_type": "code",
        "colab": {}
      },
      "source": [
        "input_train = train1.append(train2, ignore_index=True)\n",
        "input_train = input_train.append(train3, ignore_index=True)\n",
        "#input_train = input_train.append(train4, ignore_index=True)"
      ],
      "execution_count": 0,
      "outputs": []
    },
    {
      "cell_type": "code",
      "metadata": {
        "id": "G8vBKo0ABLCu",
        "colab_type": "code",
        "colab": {}
      },
      "source": [
        "#os.getcwd()\n",
        "input_train.to_csv('input_train.csv')"
      ],
      "execution_count": 0,
      "outputs": []
    },
    {
      "cell_type": "code",
      "metadata": {
        "id": "kXG3EQw1C7wV",
        "colab_type": "code",
        "outputId": "7750ec6c-6637-41e7-e309-4fa9fdfe8121",
        "colab": {
          "base_uri": "https://localhost:8080/",
          "height": 241
        }
      },
      "source": [
        "#input_train.head()"
      ],
      "execution_count": 0,
      "outputs": [
        {
          "output_type": "execute_result",
          "data": {
            "text/html": [
              "<div>\n",
              "<style scoped>\n",
              "    .dataframe tbody tr th:only-of-type {\n",
              "        vertical-align: middle;\n",
              "    }\n",
              "\n",
              "    .dataframe tbody tr th {\n",
              "        vertical-align: top;\n",
              "    }\n",
              "\n",
              "    .dataframe thead th {\n",
              "        text-align: right;\n",
              "    }\n",
              "</style>\n",
              "<table border=\"1\" class=\"dataframe\">\n",
              "  <thead>\n",
              "    <tr style=\"text-align: right;\">\n",
              "      <th></th>\n",
              "      <th>(channelGrouping, max)</th>\n",
              "      <th>(visitNumber, max)</th>\n",
              "      <th>(visitNumber, count)</th>\n",
              "      <th>(device_browser, max)</th>\n",
              "      <th>(device_operatingSystem, max)</th>\n",
              "      <th>(deviceCategory, max)</th>\n",
              "      <th>(geoNetwork_continent, max)</th>\n",
              "      <th>(geoNetwork_subContinent, max)</th>\n",
              "      <th>(geoNetwork_country, max)</th>\n",
              "      <th>(geoNetwork_region, max)</th>\n",
              "      <th>(geoNetwork_metro, max)</th>\n",
              "      <th>(geoNetwork_city, max)</th>\n",
              "      <th>(geoNetwork_networkDomain, max)</th>\n",
              "      <th>(trafficSource_source, max)</th>\n",
              "      <th>(trafficSource_medium, max)</th>\n",
              "      <th>(trafficSource_adwordsClickInfo.isVideoAd, mean)</th>\n",
              "      <th>(device_isMobile, mean)</th>\n",
              "      <th>(trafficSource_isTrueDirect, mean)</th>\n",
              "      <th>(totals_bounces, sum)</th>\n",
              "      <th>(totals_hits, sum)</th>\n",
              "      <th>(totals_hits, mean)</th>\n",
              "      <th>(totals_hits, min)</th>\n",
              "      <th>(totals_hits, max)</th>\n",
              "      <th>(totals_hits, median)</th>\n",
              "      <th>(totals_hits, std)</th>\n",
              "      <th>(totals_pageviews, sum)</th>\n",
              "      <th>(totals_pageviews, mean)</th>\n",
              "      <th>(totals_pageviews, min)</th>\n",
              "      <th>(totals_pageviews, max)</th>\n",
              "      <th>(totals_pageviews, median)</th>\n",
              "      <th>(totals_pageviews, std)</th>\n",
              "      <th>(totals_transactionRevenue, sum)</th>\n",
              "      <th>(totals_transactions, sum)</th>\n",
              "      <th>(first_ses_from_the_period_start, )</th>\n",
              "      <th>(last_ses_from_the_period_end, )</th>\n",
              "      <th>(interval_dates, )</th>\n",
              "      <th>unique_date_num</th>\n",
              "      <th>will_purchase</th>\n",
              "      <th>totals_totalTransactionRevenue</th>\n",
              "    </tr>\n",
              "  </thead>\n",
              "  <tbody>\n",
              "    <tr>\n",
              "      <th>0</th>\n",
              "      <td>4</td>\n",
              "      <td>1</td>\n",
              "      <td>1</td>\n",
              "      <td>35</td>\n",
              "      <td>20</td>\n",
              "      <td>0</td>\n",
              "      <td>3</td>\n",
              "      <td>6</td>\n",
              "      <td>43</td>\n",
              "      <td>482</td>\n",
              "      <td>122</td>\n",
              "      <td>955</td>\n",
              "      <td>38725</td>\n",
              "      <td>21</td>\n",
              "      <td>5</td>\n",
              "      <td>1.0</td>\n",
              "      <td>0.0</td>\n",
              "      <td>1.0</td>\n",
              "      <td>1.0</td>\n",
              "      <td>1</td>\n",
              "      <td>1.0</td>\n",
              "      <td>1</td>\n",
              "      <td>1</td>\n",
              "      <td>1.0</td>\n",
              "      <td>NaN</td>\n",
              "      <td>1.0</td>\n",
              "      <td>1.0</td>\n",
              "      <td>1.0</td>\n",
              "      <td>1.0</td>\n",
              "      <td>1.0</td>\n",
              "      <td>NaN</td>\n",
              "      <td>0.0</td>\n",
              "      <td>0.0</td>\n",
              "      <td>92 days</td>\n",
              "      <td>545 days</td>\n",
              "      <td>0 days</td>\n",
              "      <td>1</td>\n",
              "      <td>0</td>\n",
              "      <td>NaN</td>\n",
              "    </tr>\n",
              "    <tr>\n",
              "      <th>1</th>\n",
              "      <td>4</td>\n",
              "      <td>1</td>\n",
              "      <td>1</td>\n",
              "      <td>35</td>\n",
              "      <td>1</td>\n",
              "      <td>1</td>\n",
              "      <td>2</td>\n",
              "      <td>12</td>\n",
              "      <td>218</td>\n",
              "      <td>482</td>\n",
              "      <td>122</td>\n",
              "      <td>955</td>\n",
              "      <td>7652</td>\n",
              "      <td>99</td>\n",
              "      <td>5</td>\n",
              "      <td>1.0</td>\n",
              "      <td>1.0</td>\n",
              "      <td>1.0</td>\n",
              "      <td>0.0</td>\n",
              "      <td>10</td>\n",
              "      <td>10.0</td>\n",
              "      <td>10</td>\n",
              "      <td>10</td>\n",
              "      <td>10.0</td>\n",
              "      <td>NaN</td>\n",
              "      <td>8.0</td>\n",
              "      <td>8.0</td>\n",
              "      <td>8.0</td>\n",
              "      <td>8.0</td>\n",
              "      <td>8.0</td>\n",
              "      <td>NaN</td>\n",
              "      <td>0.0</td>\n",
              "      <td>0.0</td>\n",
              "      <td>20 days</td>\n",
              "      <td>617 days</td>\n",
              "      <td>0 days</td>\n",
              "      <td>1</td>\n",
              "      <td>0</td>\n",
              "      <td>NaN</td>\n",
              "    </tr>\n",
              "    <tr>\n",
              "      <th>2</th>\n",
              "      <td>4</td>\n",
              "      <td>1</td>\n",
              "      <td>1</td>\n",
              "      <td>35</td>\n",
              "      <td>7</td>\n",
              "      <td>0</td>\n",
              "      <td>5</td>\n",
              "      <td>1</td>\n",
              "      <td>146</td>\n",
              "      <td>482</td>\n",
              "      <td>122</td>\n",
              "      <td>955</td>\n",
              "      <td>41471</td>\n",
              "      <td>99</td>\n",
              "      <td>5</td>\n",
              "      <td>1.0</td>\n",
              "      <td>0.0</td>\n",
              "      <td>1.0</td>\n",
              "      <td>0.0</td>\n",
              "      <td>11</td>\n",
              "      <td>11.0</td>\n",
              "      <td>11</td>\n",
              "      <td>11</td>\n",
              "      <td>11.0</td>\n",
              "      <td>NaN</td>\n",
              "      <td>8.0</td>\n",
              "      <td>8.0</td>\n",
              "      <td>8.0</td>\n",
              "      <td>8.0</td>\n",
              "      <td>8.0</td>\n",
              "      <td>NaN</td>\n",
              "      <td>0.0</td>\n",
              "      <td>0.0</td>\n",
              "      <td>80 days</td>\n",
              "      <td>557 days</td>\n",
              "      <td>0 days</td>\n",
              "      <td>1</td>\n",
              "      <td>0</td>\n",
              "      <td>NaN</td>\n",
              "    </tr>\n",
              "    <tr>\n",
              "      <th>3</th>\n",
              "      <td>4</td>\n",
              "      <td>1</td>\n",
              "      <td>1</td>\n",
              "      <td>35</td>\n",
              "      <td>20</td>\n",
              "      <td>0</td>\n",
              "      <td>2</td>\n",
              "      <td>15</td>\n",
              "      <td>159</td>\n",
              "      <td>224</td>\n",
              "      <td>0</td>\n",
              "      <td>423</td>\n",
              "      <td>24501</td>\n",
              "      <td>0</td>\n",
              "      <td>0</td>\n",
              "      <td>1.0</td>\n",
              "      <td>0.0</td>\n",
              "      <td>1.0</td>\n",
              "      <td>0.0</td>\n",
              "      <td>17</td>\n",
              "      <td>17.0</td>\n",
              "      <td>17</td>\n",
              "      <td>17</td>\n",
              "      <td>17.0</td>\n",
              "      <td>NaN</td>\n",
              "      <td>13.0</td>\n",
              "      <td>13.0</td>\n",
              "      <td>13.0</td>\n",
              "      <td>13.0</td>\n",
              "      <td>13.0</td>\n",
              "      <td>NaN</td>\n",
              "      <td>0.0</td>\n",
              "      <td>0.0</td>\n",
              "      <td>121 days</td>\n",
              "      <td>516 days</td>\n",
              "      <td>0 days</td>\n",
              "      <td>1</td>\n",
              "      <td>0</td>\n",
              "      <td>NaN</td>\n",
              "    </tr>\n",
              "    <tr>\n",
              "      <th>4</th>\n",
              "      <td>7</td>\n",
              "      <td>1</td>\n",
              "      <td>1</td>\n",
              "      <td>72</td>\n",
              "      <td>7</td>\n",
              "      <td>0</td>\n",
              "      <td>3</td>\n",
              "      <td>21</td>\n",
              "      <td>210</td>\n",
              "      <td>482</td>\n",
              "      <td>122</td>\n",
              "      <td>955</td>\n",
              "      <td>37454</td>\n",
              "      <td>343</td>\n",
              "      <td>6</td>\n",
              "      <td>1.0</td>\n",
              "      <td>0.0</td>\n",
              "      <td>1.0</td>\n",
              "      <td>1.0</td>\n",
              "      <td>1</td>\n",
              "      <td>1.0</td>\n",
              "      <td>1</td>\n",
              "      <td>1</td>\n",
              "      <td>1.0</td>\n",
              "      <td>NaN</td>\n",
              "      <td>1.0</td>\n",
              "      <td>1.0</td>\n",
              "      <td>1.0</td>\n",
              "      <td>1.0</td>\n",
              "      <td>1.0</td>\n",
              "      <td>NaN</td>\n",
              "      <td>0.0</td>\n",
              "      <td>0.0</td>\n",
              "      <td>118 days</td>\n",
              "      <td>519 days</td>\n",
              "      <td>0 days</td>\n",
              "      <td>1</td>\n",
              "      <td>0</td>\n",
              "      <td>NaN</td>\n",
              "    </tr>\n",
              "  </tbody>\n",
              "</table>\n",
              "</div>"
            ],
            "text/plain": [
              "   (channelGrouping, max)  ...  totals_totalTransactionRevenue\n",
              "0                       4  ...                             NaN\n",
              "1                       4  ...                             NaN\n",
              "2                       4  ...                             NaN\n",
              "3                       4  ...                             NaN\n",
              "4                       7  ...                             NaN\n",
              "\n",
              "[5 rows x 39 columns]"
            ]
          },
          "metadata": {
            "tags": []
          },
          "execution_count": 61
        }
      ]
    },
    {
      "cell_type": "markdown",
      "metadata": {
        "id": "RZlHmNe4Szx1",
        "colab_type": "text"
      },
      "source": [
        "### Test input"
      ]
    },
    {
      "cell_type": "code",
      "metadata": {
        "id": "hCssh0qMS8IB",
        "colab_type": "code",
        "colab": {}
      },
      "source": [
        "test_df['tf_maxdate'] = test_df['date'].max()\n",
        "test_df['tf_mindate'] = test_df['date'].min()"
      ],
      "execution_count": 0,
      "outputs": []
    },
    {
      "cell_type": "code",
      "metadata": {
        "id": "wGd7qCtAUz2X",
        "colab_type": "code",
        "colab": {}
      },
      "source": [
        "df1 = feature_engineer(test_df)"
      ],
      "execution_count": 0,
      "outputs": []
    },
    {
      "cell_type": "code",
      "metadata": {
        "id": "DcWkITS_YdCy",
        "colab_type": "code",
        "colab": {}
      },
      "source": [
        "date_format = '%Y-%m-%d'\n",
        "df1['first_ses_from_the_period_start'] = pd.to_datetime(df1['date']['min'], format=date_format) - pd.to_datetime(df1['tf_mindate']['min'], format=date_format)\n",
        "df1['first_ses_from_the_period_start'] = df1['first_ses_from_the_period_start'].astype('timedelta64[D]')\n",
        "df1['last_ses_from_the_period_end'] = pd.to_datetime(df1['tf_maxdate']['max'], format=date_format) - pd.to_datetime(df1['date']['max'], format=date_format)\n",
        "df1['last_ses_from_the_period_end'] = df1['last_ses_from_the_period_end'].astype('timedelta64[D]')\n",
        "df1['interval_dates'] = pd.to_datetime(df1['date']['max'], format=date_format) - pd.to_datetime(df1['date']['min'], format=date_format)\n",
        "df1['interval_dates'] = df1['interval_dates'].astype('timedelta64[D]')\n",
        "df1 = df1.iloc[:,4:]"
      ],
      "execution_count": 0,
      "outputs": []
    },
    {
      "cell_type": "code",
      "metadata": {
        "id": "a01JQPbqbDfV",
        "colab_type": "code",
        "colab": {}
      },
      "source": [
        "df2 = raw_test5.groupby('fullVisitorId')['date'].nunique().rename('unique_date_num')"
      ],
      "execution_count": 0,
      "outputs": []
    },
    {
      "cell_type": "code",
      "metadata": {
        "id": "vCABkk8Rumj8",
        "colab_type": "code",
        "outputId": "7a16df3d-2a61-4c5f-8c52-fdd9ea60b250",
        "colab": {
          "base_uri": "https://localhost:8080/",
          "height": 71
        }
      },
      "source": [
        "input_test = pd.merge(df1, df2, on = 'fullVisitorId')"
      ],
      "execution_count": 0,
      "outputs": [
        {
          "output_type": "stream",
          "text": [
            "/usr/local/lib/python3.6/dist-packages/pandas/core/reshape/merge.py:617: UserWarning: merging between different levels can give an unintended result (2 levels on the left, 1 on the right)\n",
            "  warnings.warn(msg, UserWarning)\n"
          ],
          "name": "stderr"
        }
      ]
    },
    {
      "cell_type": "code",
      "metadata": {
        "id": "MBzH8BjKTkk_",
        "colab_type": "code",
        "colab": {}
      },
      "source": [
        "#os.getcwd()\n",
        "input_test.to_csv('input_test.csv')"
      ],
      "execution_count": 0,
      "outputs": []
    },
    {
      "cell_type": "code",
      "metadata": {
        "id": "-qTvqoAuuyJR",
        "colab_type": "code",
        "colab": {}
      },
      "source": [
        ""
      ],
      "execution_count": 0,
      "outputs": []
    }
  ]
}